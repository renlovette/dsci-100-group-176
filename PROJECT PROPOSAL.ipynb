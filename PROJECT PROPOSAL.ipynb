{
 "cells": [
  {
   "cell_type": "markdown",
   "id": "52894417-5051-4d26-a310-b2cedb3fbb73",
   "metadata": {},
   "source": [
    "<h1> Project Proposal: When does a professional tennis player reach their peak performance? </h1>\n",
    "    <p> Using the dataset of the Top 500 Tennis Players' Statistics, we will explore the relationship between a player's age, duration of playing professionally, and the best rank. The dataset gives information on different tennis players all around the world, their age, their current rank, the country they’re from, which hand they use for playing, when they turned pro, their number of seasons thus far, if they’re still active players or retired, prize money, and other bits of information on the players, but for this project, we will only be using some of the data. </p>\n",
    "    \n",
    "[Link to Top 500 Tennis Players' Statistics](https://www.ultimatetennisstatistics.com/tournamentEvents)"
   ]
  },
  {
   "cell_type": "code",
   "execution_count": 1,
   "id": "0e297e82-e0d0-444a-8762-311b58311475",
   "metadata": {},
   "outputs": [
    {
     "name": "stderr",
     "output_type": "stream",
     "text": [
      "── \u001b[1mAttaching packages\u001b[22m ─────────────────────────────────────── tidyverse 1.3.1 ──\n",
      "\n",
      "\u001b[32m✔\u001b[39m \u001b[34mggplot2\u001b[39m 3.3.6     \u001b[32m✔\u001b[39m \u001b[34mpurrr  \u001b[39m 0.3.4\n",
      "\u001b[32m✔\u001b[39m \u001b[34mtibble \u001b[39m 3.1.7     \u001b[32m✔\u001b[39m \u001b[34mdplyr  \u001b[39m 1.0.9\n",
      "\u001b[32m✔\u001b[39m \u001b[34mtidyr  \u001b[39m 1.2.0     \u001b[32m✔\u001b[39m \u001b[34mstringr\u001b[39m 1.4.0\n",
      "\u001b[32m✔\u001b[39m \u001b[34mreadr  \u001b[39m 2.1.2     \u001b[32m✔\u001b[39m \u001b[34mforcats\u001b[39m 0.5.1\n",
      "\n",
      "── \u001b[1mConflicts\u001b[22m ────────────────────────────────────────── tidyverse_conflicts() ──\n",
      "\u001b[31m✖\u001b[39m \u001b[34mdplyr\u001b[39m::\u001b[32mfilter()\u001b[39m masks \u001b[34mstats\u001b[39m::filter()\n",
      "\u001b[31m✖\u001b[39m \u001b[34mdplyr\u001b[39m::\u001b[32mlag()\u001b[39m    masks \u001b[34mstats\u001b[39m::lag()\n",
      "\n",
      "── \u001b[1mAttaching packages\u001b[22m ────────────────────────────────────── tidymodels 1.0.0 ──\n",
      "\n",
      "\u001b[32m✔\u001b[39m \u001b[34mbroom       \u001b[39m 1.0.0     \u001b[32m✔\u001b[39m \u001b[34mrsample     \u001b[39m 1.0.0\n",
      "\u001b[32m✔\u001b[39m \u001b[34mdials       \u001b[39m 1.0.0     \u001b[32m✔\u001b[39m \u001b[34mtune        \u001b[39m 1.0.0\n",
      "\u001b[32m✔\u001b[39m \u001b[34minfer       \u001b[39m 1.0.2     \u001b[32m✔\u001b[39m \u001b[34mworkflows   \u001b[39m 1.0.0\n",
      "\u001b[32m✔\u001b[39m \u001b[34mmodeldata   \u001b[39m 1.0.0     \u001b[32m✔\u001b[39m \u001b[34mworkflowsets\u001b[39m 1.0.0\n",
      "\u001b[32m✔\u001b[39m \u001b[34mparsnip     \u001b[39m 1.0.0     \u001b[32m✔\u001b[39m \u001b[34myardstick   \u001b[39m 1.0.0\n",
      "\u001b[32m✔\u001b[39m \u001b[34mrecipes     \u001b[39m 1.0.1     \n",
      "\n",
      "── \u001b[1mConflicts\u001b[22m ───────────────────────────────────────── tidymodels_conflicts() ──\n",
      "\u001b[31m✖\u001b[39m \u001b[34mscales\u001b[39m::\u001b[32mdiscard()\u001b[39m masks \u001b[34mpurrr\u001b[39m::discard()\n",
      "\u001b[31m✖\u001b[39m \u001b[34mdplyr\u001b[39m::\u001b[32mfilter()\u001b[39m   masks \u001b[34mstats\u001b[39m::filter()\n",
      "\u001b[31m✖\u001b[39m \u001b[34mrecipes\u001b[39m::\u001b[32mfixed()\u001b[39m  masks \u001b[34mstringr\u001b[39m::fixed()\n",
      "\u001b[31m✖\u001b[39m \u001b[34mdplyr\u001b[39m::\u001b[32mlag()\u001b[39m      masks \u001b[34mstats\u001b[39m::lag()\n",
      "\u001b[31m✖\u001b[39m \u001b[34myardstick\u001b[39m::\u001b[32mspec()\u001b[39m masks \u001b[34mreadr\u001b[39m::spec()\n",
      "\u001b[31m✖\u001b[39m \u001b[34mrecipes\u001b[39m::\u001b[32mstep()\u001b[39m   masks \u001b[34mstats\u001b[39m::step()\n",
      "\u001b[34m•\u001b[39m Use \u001b[32mtidymodels_prefer()\u001b[39m to resolve common conflicts.\n",
      "\n"
     ]
    }
   ],
   "source": [
    "library(tidyverse)\n",
    "library(repr)\n",
    "library(tidymodels)\n",
    "options(repr.matrix.max.rows = 6)"
   ]
  },
  {
   "cell_type": "markdown",
   "id": "fba6a5ab-fc8f-4763-9ae4-85c3f915c8ef",
   "metadata": {},
   "source": [
    "<h2> Reading and tidying data </h2>\n",
    "<p>The code below shows that our data can be read from the web.</p>"
   ]
  },
  {
   "cell_type": "code",
   "execution_count": 2,
   "id": "9dce4456-1220-4320-87e9-f06cd4dafd2a",
   "metadata": {},
   "outputs": [
    {
     "name": "stderr",
     "output_type": "stream",
     "text": [
      "\u001b[1m\u001b[22mNew names:\n",
      "\u001b[36m•\u001b[39m `` -> `...1`\n",
      "\u001b[1mRows: \u001b[22m\u001b[34m500\u001b[39m \u001b[1mColumns: \u001b[22m\u001b[34m38\u001b[39m\n",
      "\u001b[36m──\u001b[39m \u001b[1mColumn specification\u001b[22m \u001b[36m────────────────────────────────────────────────────────\u001b[39m\n",
      "\u001b[1mDelimiter:\u001b[22m \",\"\n",
      "\u001b[31mchr\u001b[39m (25): Age, Country, Plays, Wikipedia, Current Rank, Best Rank, Name, Bac...\n",
      "\u001b[32mdbl\u001b[39m (13): ...1, Turned Pro, Seasons, Titles, Best Season, Retired, Masters, ...\n",
      "\n",
      "\u001b[36mℹ\u001b[39m Use `spec()` to retrieve the full column specification for this data.\n",
      "\u001b[36mℹ\u001b[39m Specify the column types or set `show_col_types = FALSE` to quiet this message.\n"
     ]
    }
   ],
   "source": [
    "player_stats <- read_csv(\"https://drive.google.com/uc?export=download&id=1_MECmUXZuuILYeEOfonSGqodW6qVdhsS\")"
   ]
  },
  {
   "cell_type": "markdown",
   "id": "de8da991-f01e-48fb-a60a-7c52f23a2e31",
   "metadata": {},
   "source": [
    "<p> Once the data is read, we attempt to tidy the data frame and select only the columns containing the necessary variables for our project: Age, Plays, Best Rank, Name, Turned Pro and Seasons. We then separate the Age and Best Rank columns as they contain two values per cell. We separated the age from the players' date of birth, and the best rank into their rank and the date of when they achieved this ranking. We chose to disregard the days and months and only used their years of birth and of their best rank. There were lots of unknown values, so we removed these from the dataset. \n",
    "\n",
    "\n",
    "<h4> Methods </h4>\n",
    "Using these variables, we expect to see some sort of correlation between how many seasons a player has played since they turned pro, and when they reach their best rank. Using the plays variable, we will group the players according to whether they are left-handed or right-handed to see whether this has any significance on their performance, or  on when they reach their peak. </p>"
   ]
  },
  {
   "cell_type": "code",
   "execution_count": 17,
   "id": "cdc01fa3-a17d-4690-b659-b43ed955d9f7",
   "metadata": {},
   "outputs": [
    {
     "name": "stderr",
     "output_type": "stream",
     "text": [
      "Warning message:\n",
      "“Expected 4 pieces. Additional pieces discarded in 499 rows [1, 2, 3, 4, 5, 6, 7, 8, 9, 10, 11, 12, 13, 14, 15, 16, 17, 18, 19, 20, ...].”\n",
      "Warning message:\n",
      "“Expected 4 pieces. Additional pieces discarded in 499 rows [1, 2, 3, 4, 5, 6, 7, 8, 9, 10, 11, 12, 13, 14, 15, 16, 17, 18, 19, 20, ...].”\n"
     ]
    },
    {
     "data": {
      "text/html": [
       "<table class=\"dataframe\">\n",
       "<caption>A tibble: 242 × 8</caption>\n",
       "<thead>\n",
       "\t<tr><th scope=col>Seasons</th><th scope=col>Age</th><th scope=col>Birth_year</th><th scope=col>Plays</th><th scope=col>Best_Rank</th><th scope=col>Best_rank_year</th><th scope=col>Name</th><th scope=col>Turned Pro</th></tr>\n",
       "\t<tr><th scope=col>&lt;dbl&gt;</th><th scope=col>&lt;int&gt;</th><th scope=col>&lt;int&gt;</th><th scope=col>&lt;chr&gt;</th><th scope=col>&lt;int&gt;</th><th scope=col>&lt;int&gt;</th><th scope=col>&lt;chr&gt;</th><th scope=col>&lt;dbl&gt;</th></tr>\n",
       "</thead>\n",
       "<tbody>\n",
       "\t<tr><td>14</td><td>32</td><td>1987</td><td>Right-handed</td><td>44</td><td>2013</td><td>Lukas Lacko   </td><td>2005</td></tr>\n",
       "\t<tr><td>11</td><td>27</td><td>1992</td><td>Right-handed</td><td>17</td><td>2016</td><td>Bernard Tomic </td><td>2008</td></tr>\n",
       "\t<tr><td> 5</td><td>22</td><td>1997</td><td>Right-handed</td><td>31</td><td>2020</td><td>Hubert Hurkacz</td><td>2015</td></tr>\n",
       "\t<tr><td>⋮</td><td>⋮</td><td>⋮</td><td>⋮</td><td>⋮</td><td>⋮</td><td>⋮</td><td>⋮</td></tr>\n",
       "\t<tr><td> 7</td><td>28</td><td>1991</td><td>Right-handed</td><td> 74</td><td>2018</td><td>Mirza Basic     </td><td>2008</td></tr>\n",
       "\t<tr><td> 8</td><td>26</td><td>1993</td><td>Right-handed</td><td>249</td><td>2018</td><td>Dimitar Kuzmanov</td><td>2009</td></tr>\n",
       "\t<tr><td>10</td><td>26</td><td>1993</td><td>Right-handed</td><td>  4</td><td>2017</td><td>Dominic Thiem   </td><td>2011</td></tr>\n",
       "</tbody>\n",
       "</table>\n"
      ],
      "text/latex": [
       "A tibble: 242 × 8\n",
       "\\begin{tabular}{llllllll}\n",
       " Seasons & Age & Birth\\_year & Plays & Best\\_Rank & Best\\_rank\\_year & Name & Turned Pro\\\\\n",
       " <dbl> & <int> & <int> & <chr> & <int> & <int> & <chr> & <dbl>\\\\\n",
       "\\hline\n",
       "\t 14 & 32 & 1987 & Right-handed & 44 & 2013 & Lukas Lacko    & 2005\\\\\n",
       "\t 11 & 27 & 1992 & Right-handed & 17 & 2016 & Bernard Tomic  & 2008\\\\\n",
       "\t  5 & 22 & 1997 & Right-handed & 31 & 2020 & Hubert Hurkacz & 2015\\\\\n",
       "\t ⋮ & ⋮ & ⋮ & ⋮ & ⋮ & ⋮ & ⋮ & ⋮\\\\\n",
       "\t  7 & 28 & 1991 & Right-handed &  74 & 2018 & Mirza Basic      & 2008\\\\\n",
       "\t  8 & 26 & 1993 & Right-handed & 249 & 2018 & Dimitar Kuzmanov & 2009\\\\\n",
       "\t 10 & 26 & 1993 & Right-handed &   4 & 2017 & Dominic Thiem    & 2011\\\\\n",
       "\\end{tabular}\n"
      ],
      "text/markdown": [
       "\n",
       "A tibble: 242 × 8\n",
       "\n",
       "| Seasons &lt;dbl&gt; | Age &lt;int&gt; | Birth_year &lt;int&gt; | Plays &lt;chr&gt; | Best_Rank &lt;int&gt; | Best_rank_year &lt;int&gt; | Name &lt;chr&gt; | Turned Pro &lt;dbl&gt; |\n",
       "|---|---|---|---|---|---|---|---|\n",
       "| 14 | 32 | 1987 | Right-handed | 44 | 2013 | Lukas Lacko    | 2005 |\n",
       "| 11 | 27 | 1992 | Right-handed | 17 | 2016 | Bernard Tomic  | 2008 |\n",
       "|  5 | 22 | 1997 | Right-handed | 31 | 2020 | Hubert Hurkacz | 2015 |\n",
       "| ⋮ | ⋮ | ⋮ | ⋮ | ⋮ | ⋮ | ⋮ | ⋮ |\n",
       "|  7 | 28 | 1991 | Right-handed |  74 | 2018 | Mirza Basic      | 2008 |\n",
       "|  8 | 26 | 1993 | Right-handed | 249 | 2018 | Dimitar Kuzmanov | 2009 |\n",
       "| 10 | 26 | 1993 | Right-handed |   4 | 2017 | Dominic Thiem    | 2011 |\n",
       "\n"
      ],
      "text/plain": [
       "    Seasons Age Birth_year Plays        Best_Rank Best_rank_year\n",
       "1   14      32  1987       Right-handed 44        2013          \n",
       "2   11      27  1992       Right-handed 17        2016          \n",
       "3    5      22  1997       Right-handed 31        2020          \n",
       "⋮   ⋮       ⋮   ⋮          ⋮            ⋮         ⋮             \n",
       "240  7      28  1991       Right-handed  74       2018          \n",
       "241  8      26  1993       Right-handed 249       2018          \n",
       "242 10      26  1993       Right-handed   4       2017          \n",
       "    Name             Turned Pro\n",
       "1   Lukas Lacko      2005      \n",
       "2   Bernard Tomic    2008      \n",
       "3   Hubert Hurkacz   2015      \n",
       "⋮   ⋮                ⋮         \n",
       "240 Mirza Basic      2008      \n",
       "241 Dimitar Kuzmanov 2009      \n",
       "242 Dominic Thiem    2011      "
      ]
     },
     "metadata": {},
     "output_type": "display_data"
    }
   ],
   "source": [
    "player_stats_tidy <- player_stats|>\n",
    "    select(Seasons, Age, Plays, \"Best Rank\", Name,\"Turned Pro\", Seasons)|>\n",
    "    separate(col = \"Age\",\n",
    "             into = c(\"Age\", \"Birthday\",\"Birth_month\", \"Birth_year\"),\n",
    "             convert = TRUE) |>\n",
    "    separate(col = \"Best Rank\",\n",
    "             into = c(\"Best_Rank\", \n",
    "                   \"Best_rank_day\", \"Best_rank_month\", \"Best_rank_year\"),\n",
    "            convert = TRUE) |>\n",
    "    select(-Birth_month, -Birthday, -Best_rank_day, -Best_rank_month) |>\n",
    "    na.omit()\n",
    "player_stats_tidy"
   ]
  },
  {
   "cell_type": "markdown",
   "id": "8088f3c3-3c74-4f6c-8c4f-582072da55af",
   "metadata": {},
   "source": [
    "<h2> Preliminary Data Exploration </h2>\n",
    "<p>To perform some preliminary data exploration, we will obtain the oldest and youngest players to calculate the range of the players's age to be 22 years. We will also see who the top 5 best ranked players and who's played the 5 most seasons. Lastly, we'll identify how many players are right-handed or left-handed. </p>"
   ]
  },
  {
   "cell_type": "code",
   "execution_count": 19,
   "id": "546c406e-4207-4ef0-80b5-e13b5137954d",
   "metadata": {},
   "outputs": [
    {
     "data": {
      "text/html": [
       "<table class=\"dataframe\">\n",
       "<caption>A tibble: 1 × 8</caption>\n",
       "<thead>\n",
       "\t<tr><th scope=col>Seasons</th><th scope=col>Age</th><th scope=col>Birth_year</th><th scope=col>Plays</th><th scope=col>Best_Rank</th><th scope=col>Best_rank_year</th><th scope=col>Name</th><th scope=col>Turned Pro</th></tr>\n",
       "\t<tr><th scope=col>&lt;dbl&gt;</th><th scope=col>&lt;int&gt;</th><th scope=col>&lt;int&gt;</th><th scope=col>&lt;chr&gt;</th><th scope=col>&lt;int&gt;</th><th scope=col>&lt;int&gt;</th><th scope=col>&lt;chr&gt;</th><th scope=col>&lt;dbl&gt;</th></tr>\n",
       "</thead>\n",
       "<tbody>\n",
       "\t<tr><td>20</td><td>40</td><td>1979</td><td>Right-handed</td><td>14</td><td>2008</td><td>Ivo Karlovic</td><td>2000</td></tr>\n",
       "</tbody>\n",
       "</table>\n"
      ],
      "text/latex": [
       "A tibble: 1 × 8\n",
       "\\begin{tabular}{llllllll}\n",
       " Seasons & Age & Birth\\_year & Plays & Best\\_Rank & Best\\_rank\\_year & Name & Turned Pro\\\\\n",
       " <dbl> & <int> & <int> & <chr> & <int> & <int> & <chr> & <dbl>\\\\\n",
       "\\hline\n",
       "\t 20 & 40 & 1979 & Right-handed & 14 & 2008 & Ivo Karlovic & 2000\\\\\n",
       "\\end{tabular}\n"
      ],
      "text/markdown": [
       "\n",
       "A tibble: 1 × 8\n",
       "\n",
       "| Seasons &lt;dbl&gt; | Age &lt;int&gt; | Birth_year &lt;int&gt; | Plays &lt;chr&gt; | Best_Rank &lt;int&gt; | Best_rank_year &lt;int&gt; | Name &lt;chr&gt; | Turned Pro &lt;dbl&gt; |\n",
       "|---|---|---|---|---|---|---|---|\n",
       "| 20 | 40 | 1979 | Right-handed | 14 | 2008 | Ivo Karlovic | 2000 |\n",
       "\n"
      ],
      "text/plain": [
       "  Seasons Age Birth_year Plays        Best_Rank Best_rank_year Name        \n",
       "1 20      40  1979       Right-handed 14        2008           Ivo Karlovic\n",
       "  Turned Pro\n",
       "1 2000      "
      ]
     },
     "metadata": {},
     "output_type": "display_data"
    },
    {
     "data": {
      "text/html": [
       "<table class=\"dataframe\">\n",
       "<caption>A tibble: 1 × 8</caption>\n",
       "<thead>\n",
       "\t<tr><th scope=col>Seasons</th><th scope=col>Age</th><th scope=col>Birth_year</th><th scope=col>Plays</th><th scope=col>Best_Rank</th><th scope=col>Best_rank_year</th><th scope=col>Name</th><th scope=col>Turned Pro</th></tr>\n",
       "\t<tr><th scope=col>&lt;dbl&gt;</th><th scope=col>&lt;int&gt;</th><th scope=col>&lt;int&gt;</th><th scope=col>&lt;chr&gt;</th><th scope=col>&lt;int&gt;</th><th scope=col>&lt;int&gt;</th><th scope=col>&lt;chr&gt;</th><th scope=col>&lt;dbl&gt;</th></tr>\n",
       "</thead>\n",
       "<tbody>\n",
       "\t<tr><td>2</td><td>18</td><td>2001</td><td>Right-handed</td><td>78</td><td>2019</td><td>Jannik Sinner</td><td>2018</td></tr>\n",
       "</tbody>\n",
       "</table>\n"
      ],
      "text/latex": [
       "A tibble: 1 × 8\n",
       "\\begin{tabular}{llllllll}\n",
       " Seasons & Age & Birth\\_year & Plays & Best\\_Rank & Best\\_rank\\_year & Name & Turned Pro\\\\\n",
       " <dbl> & <int> & <int> & <chr> & <int> & <int> & <chr> & <dbl>\\\\\n",
       "\\hline\n",
       "\t 2 & 18 & 2001 & Right-handed & 78 & 2019 & Jannik Sinner & 2018\\\\\n",
       "\\end{tabular}\n"
      ],
      "text/markdown": [
       "\n",
       "A tibble: 1 × 8\n",
       "\n",
       "| Seasons &lt;dbl&gt; | Age &lt;int&gt; | Birth_year &lt;int&gt; | Plays &lt;chr&gt; | Best_Rank &lt;int&gt; | Best_rank_year &lt;int&gt; | Name &lt;chr&gt; | Turned Pro &lt;dbl&gt; |\n",
       "|---|---|---|---|---|---|---|---|\n",
       "| 2 | 18 | 2001 | Right-handed | 78 | 2019 | Jannik Sinner | 2018 |\n",
       "\n"
      ],
      "text/plain": [
       "  Seasons Age Birth_year Plays        Best_Rank Best_rank_year Name         \n",
       "1 2       18  2001       Right-handed 78        2019           Jannik Sinner\n",
       "  Turned Pro\n",
       "1 2018      "
      ]
     },
     "metadata": {},
     "output_type": "display_data"
    },
    {
     "data": {
      "text/html": [
       "22"
      ],
      "text/latex": [
       "22"
      ],
      "text/markdown": [
       "22"
      ],
      "text/plain": [
       "[1] 22"
      ]
     },
     "metadata": {},
     "output_type": "display_data"
    },
    {
     "data": {
      "text/html": [
       "<table class=\"dataframe\">\n",
       "<caption>A tibble: 5 × 8</caption>\n",
       "<thead>\n",
       "\t<tr><th scope=col>Seasons</th><th scope=col>Age</th><th scope=col>Birth_year</th><th scope=col>Plays</th><th scope=col>Best_Rank</th><th scope=col>Best_rank_year</th><th scope=col>Name</th><th scope=col>Turned Pro</th></tr>\n",
       "\t<tr><th scope=col>&lt;dbl&gt;</th><th scope=col>&lt;int&gt;</th><th scope=col>&lt;int&gt;</th><th scope=col>&lt;chr&gt;</th><th scope=col>&lt;int&gt;</th><th scope=col>&lt;int&gt;</th><th scope=col>&lt;chr&gt;</th><th scope=col>&lt;dbl&gt;</th></tr>\n",
       "</thead>\n",
       "<tbody>\n",
       "\t<tr><td>19</td><td>33</td><td>1986</td><td>Left-handed </td><td>1</td><td>2008</td><td>Rafael Nadal         </td><td>2001</td></tr>\n",
       "\t<tr><td>17</td><td>32</td><td>1987</td><td>Right-handed</td><td>1</td><td>2011</td><td>Novak Djokovic       </td><td>2003</td></tr>\n",
       "\t<tr><td>15</td><td>32</td><td>1987</td><td>Right-handed</td><td>1</td><td>2016</td><td>Andy Murray          </td><td>2005</td></tr>\n",
       "\t<tr><td>22</td><td>38</td><td>1981</td><td>Right-handed</td><td>1</td><td>2004</td><td>Roger Federer        </td><td>1998</td></tr>\n",
       "\t<tr><td>14</td><td>31</td><td>1988</td><td>Right-handed</td><td>3</td><td>2018</td><td>Juan Martin Del Potro</td><td>2005</td></tr>\n",
       "</tbody>\n",
       "</table>\n"
      ],
      "text/latex": [
       "A tibble: 5 × 8\n",
       "\\begin{tabular}{llllllll}\n",
       " Seasons & Age & Birth\\_year & Plays & Best\\_Rank & Best\\_rank\\_year & Name & Turned Pro\\\\\n",
       " <dbl> & <int> & <int> & <chr> & <int> & <int> & <chr> & <dbl>\\\\\n",
       "\\hline\n",
       "\t 19 & 33 & 1986 & Left-handed  & 1 & 2008 & Rafael Nadal          & 2001\\\\\n",
       "\t 17 & 32 & 1987 & Right-handed & 1 & 2011 & Novak Djokovic        & 2003\\\\\n",
       "\t 15 & 32 & 1987 & Right-handed & 1 & 2016 & Andy Murray           & 2005\\\\\n",
       "\t 22 & 38 & 1981 & Right-handed & 1 & 2004 & Roger Federer         & 1998\\\\\n",
       "\t 14 & 31 & 1988 & Right-handed & 3 & 2018 & Juan Martin Del Potro & 2005\\\\\n",
       "\\end{tabular}\n"
      ],
      "text/markdown": [
       "\n",
       "A tibble: 5 × 8\n",
       "\n",
       "| Seasons &lt;dbl&gt; | Age &lt;int&gt; | Birth_year &lt;int&gt; | Plays &lt;chr&gt; | Best_Rank &lt;int&gt; | Best_rank_year &lt;int&gt; | Name &lt;chr&gt; | Turned Pro &lt;dbl&gt; |\n",
       "|---|---|---|---|---|---|---|---|\n",
       "| 19 | 33 | 1986 | Left-handed  | 1 | 2008 | Rafael Nadal          | 2001 |\n",
       "| 17 | 32 | 1987 | Right-handed | 1 | 2011 | Novak Djokovic        | 2003 |\n",
       "| 15 | 32 | 1987 | Right-handed | 1 | 2016 | Andy Murray           | 2005 |\n",
       "| 22 | 38 | 1981 | Right-handed | 1 | 2004 | Roger Federer         | 1998 |\n",
       "| 14 | 31 | 1988 | Right-handed | 3 | 2018 | Juan Martin Del Potro | 2005 |\n",
       "\n"
      ],
      "text/plain": [
       "  Seasons Age Birth_year Plays        Best_Rank Best_rank_year\n",
       "1 19      33  1986       Left-handed  1         2008          \n",
       "2 17      32  1987       Right-handed 1         2011          \n",
       "3 15      32  1987       Right-handed 1         2016          \n",
       "4 22      38  1981       Right-handed 1         2004          \n",
       "5 14      31  1988       Right-handed 3         2018          \n",
       "  Name                  Turned Pro\n",
       "1 Rafael Nadal          2001      \n",
       "2 Novak Djokovic        2003      \n",
       "3 Andy Murray           2005      \n",
       "4 Roger Federer         1998      \n",
       "5 Juan Martin Del Potro 2005      "
      ]
     },
     "metadata": {},
     "output_type": "display_data"
    },
    {
     "data": {
      "text/html": [
       "<table class=\"dataframe\">\n",
       "<caption>A tibble: 5 × 8</caption>\n",
       "<thead>\n",
       "\t<tr><th scope=col>Seasons</th><th scope=col>Age</th><th scope=col>Birth_year</th><th scope=col>Plays</th><th scope=col>Best_Rank</th><th scope=col>Best_rank_year</th><th scope=col>Name</th><th scope=col>Turned Pro</th></tr>\n",
       "\t<tr><th scope=col>&lt;dbl&gt;</th><th scope=col>&lt;int&gt;</th><th scope=col>&lt;int&gt;</th><th scope=col>&lt;chr&gt;</th><th scope=col>&lt;int&gt;</th><th scope=col>&lt;int&gt;</th><th scope=col>&lt;chr&gt;</th><th scope=col>&lt;dbl&gt;</th></tr>\n",
       "</thead>\n",
       "<tbody>\n",
       "\t<tr><td>22</td><td>38</td><td>1981</td><td>Right-handed</td><td> 1</td><td>2004</td><td>Roger Federer  </td><td>1998</td></tr>\n",
       "\t<tr><td>22</td><td>38</td><td>1981</td><td>Left-handed </td><td>12</td><td>2015</td><td>Feliciano Lopez</td><td>1997</td></tr>\n",
       "\t<tr><td>21</td><td>37</td><td>1982</td><td>Right-handed</td><td> 5</td><td>2006</td><td>Tommy Robredo  </td><td>1998</td></tr>\n",
       "\t<tr><td>20</td><td>38</td><td>1982</td><td>Right-handed</td><td>37</td><td>2014</td><td>Nicolas Mahut  </td><td>2000</td></tr>\n",
       "\t<tr><td>20</td><td>40</td><td>1979</td><td>Right-handed</td><td>14</td><td>2008</td><td>Ivo Karlovic   </td><td>2000</td></tr>\n",
       "</tbody>\n",
       "</table>\n"
      ],
      "text/latex": [
       "A tibble: 5 × 8\n",
       "\\begin{tabular}{llllllll}\n",
       " Seasons & Age & Birth\\_year & Plays & Best\\_Rank & Best\\_rank\\_year & Name & Turned Pro\\\\\n",
       " <dbl> & <int> & <int> & <chr> & <int> & <int> & <chr> & <dbl>\\\\\n",
       "\\hline\n",
       "\t 22 & 38 & 1981 & Right-handed &  1 & 2004 & Roger Federer   & 1998\\\\\n",
       "\t 22 & 38 & 1981 & Left-handed  & 12 & 2015 & Feliciano Lopez & 1997\\\\\n",
       "\t 21 & 37 & 1982 & Right-handed &  5 & 2006 & Tommy Robredo   & 1998\\\\\n",
       "\t 20 & 38 & 1982 & Right-handed & 37 & 2014 & Nicolas Mahut   & 2000\\\\\n",
       "\t 20 & 40 & 1979 & Right-handed & 14 & 2008 & Ivo Karlovic    & 2000\\\\\n",
       "\\end{tabular}\n"
      ],
      "text/markdown": [
       "\n",
       "A tibble: 5 × 8\n",
       "\n",
       "| Seasons &lt;dbl&gt; | Age &lt;int&gt; | Birth_year &lt;int&gt; | Plays &lt;chr&gt; | Best_Rank &lt;int&gt; | Best_rank_year &lt;int&gt; | Name &lt;chr&gt; | Turned Pro &lt;dbl&gt; |\n",
       "|---|---|---|---|---|---|---|---|\n",
       "| 22 | 38 | 1981 | Right-handed |  1 | 2004 | Roger Federer   | 1998 |\n",
       "| 22 | 38 | 1981 | Left-handed  | 12 | 2015 | Feliciano Lopez | 1997 |\n",
       "| 21 | 37 | 1982 | Right-handed |  5 | 2006 | Tommy Robredo   | 1998 |\n",
       "| 20 | 38 | 1982 | Right-handed | 37 | 2014 | Nicolas Mahut   | 2000 |\n",
       "| 20 | 40 | 1979 | Right-handed | 14 | 2008 | Ivo Karlovic    | 2000 |\n",
       "\n"
      ],
      "text/plain": [
       "  Seasons Age Birth_year Plays        Best_Rank Best_rank_year Name           \n",
       "1 22      38  1981       Right-handed  1        2004           Roger Federer  \n",
       "2 22      38  1981       Left-handed  12        2015           Feliciano Lopez\n",
       "3 21      37  1982       Right-handed  5        2006           Tommy Robredo  \n",
       "4 20      38  1982       Right-handed 37        2014           Nicolas Mahut  \n",
       "5 20      40  1979       Right-handed 14        2008           Ivo Karlovic   \n",
       "  Turned Pro\n",
       "1 1998      \n",
       "2 1997      \n",
       "3 1998      \n",
       "4 2000      \n",
       "5 2000      "
      ]
     },
     "metadata": {},
     "output_type": "display_data"
    },
    {
     "data": {
      "text/html": [
       "<table class=\"dataframe\">\n",
       "<caption>A tibble: 2 × 2</caption>\n",
       "<thead>\n",
       "\t<tr><th scope=col>Plays</th><th scope=col>n</th></tr>\n",
       "\t<tr><th scope=col>&lt;chr&gt;</th><th scope=col>&lt;int&gt;</th></tr>\n",
       "</thead>\n",
       "<tbody>\n",
       "\t<tr><td>Right-handed</td><td>211</td></tr>\n",
       "\t<tr><td>Left-handed </td><td> 31</td></tr>\n",
       "</tbody>\n",
       "</table>\n"
      ],
      "text/latex": [
       "A tibble: 2 × 2\n",
       "\\begin{tabular}{ll}\n",
       " Plays & n\\\\\n",
       " <chr> & <int>\\\\\n",
       "\\hline\n",
       "\t Right-handed & 211\\\\\n",
       "\t Left-handed  &  31\\\\\n",
       "\\end{tabular}\n"
      ],
      "text/markdown": [
       "\n",
       "A tibble: 2 × 2\n",
       "\n",
       "| Plays &lt;chr&gt; | n &lt;int&gt; |\n",
       "|---|---|\n",
       "| Right-handed | 211 |\n",
       "| Left-handed  |  31 |\n",
       "\n"
      ],
      "text/plain": [
       "  Plays        n  \n",
       "1 Right-handed 211\n",
       "2 Left-handed   31"
      ]
     },
     "metadata": {},
     "output_type": "display_data"
    }
   ],
   "source": [
    "# Oldest Player\n",
    "oldest_player <- player_stats_tidy |>\n",
    "    arrange(desc(Age)) |>\n",
    "    head(1)\n",
    "oldest_player\n",
    "\n",
    "# Youngest Player\n",
    "youngest_player <- player_stats_tidy |>\n",
    "    arrange(Age) |>\n",
    "    head(1)\n",
    "youngest_player\n",
    "\n",
    "# Age range\n",
    "age_range <- (max(player_stats_tidy$Age)- min(player_stats_tidy$Age))\n",
    "\n",
    "# Top 5 Best Ranked Players\n",
    "top_5_players <- player_stats_tidy |>\n",
    "    arrange(Best_Rank) |>\n",
    "    head(5)\n",
    "top_5_players\n",
    "\n",
    "# Top 5 Most Seasons Played\n",
    "top_5_most_seasons <- player_stats_tidy |>\n",
    "    arrange(desc(Seasons)) |>\n",
    "    head(5)\n",
    "top_5_most_seasons\n",
    "\n",
    "# Right-handed vs Left-handed Count\n",
    "right_or_left <- player_stats_tidy |>\n",
    "    group_by(Plays) |>\n",
    "    summarize(n = n()) |>\n",
    "    arrange(desc(n))  \n",
    "right_or_left"
   ]
  },
  {
   "cell_type": "markdown",
   "id": "30137485-ca76-437f-a6c0-f8e920bd13bd",
   "metadata": {},
   "source": [
    "<h2> Visualizing Training Data </h2>\n",
    "<p> After splitting our data, we will use the training data and a scatter plot to easily visualize the relationship between the the number of seasons they’ve played and their best rank. \n",
    "\n",
    "We have also used color to identify the right-handed players from the left-handed players to see whether this factor had any affect on their performance.</p>"
   ]
  },
  {
   "cell_type": "code",
   "execution_count": 5,
   "id": "e5c72525-4259-44af-86e0-fb758423472e",
   "metadata": {},
   "outputs": [
    {
     "data": {
      "text/html": [
       "<table class=\"dataframe\">\n",
       "<caption>A tibble: 61 × 8</caption>\n",
       "<thead>\n",
       "\t<tr><th scope=col>Seasons</th><th scope=col>Age</th><th scope=col>Birth_year</th><th scope=col>Plays</th><th scope=col>Best_Rank</th><th scope=col>Best_rank_year</th><th scope=col>Name</th><th scope=col>Turned Pro</th></tr>\n",
       "\t<tr><th scope=col>&lt;dbl&gt;</th><th scope=col>&lt;int&gt;</th><th scope=col>&lt;int&gt;</th><th scope=col>&lt;chr&gt;</th><th scope=col>&lt;int&gt;</th><th scope=col>&lt;int&gt;</th><th scope=col>&lt;chr&gt;</th><th scope=col>&lt;dbl&gt;</th></tr>\n",
       "</thead>\n",
       "<tbody>\n",
       "\t<tr><td> 3</td><td>19</td><td>2000</td><td>Right-handed</td><td>17</td><td>2019</td><td>Felix Auger Aliassime</td><td>2017</td></tr>\n",
       "\t<tr><td> 5</td><td>23</td><td>1996</td><td>Right-handed</td><td> 4</td><td>2019</td><td>Daniil Medvedev      </td><td>2014</td></tr>\n",
       "\t<tr><td>16</td><td>32</td><td>1987</td><td>Right-handed</td><td> 9</td><td>2019</td><td>Fabio Fognini        </td><td>2004</td></tr>\n",
       "\t<tr><td>⋮</td><td>⋮</td><td>⋮</td><td>⋮</td><td>⋮</td><td>⋮</td><td>⋮</td><td>⋮</td></tr>\n",
       "\t<tr><td>16</td><td>34</td><td>1986</td><td>Right-handed</td><td> 31</td><td>2010</td><td>Sergiy Stakhovsky</td><td>2003</td></tr>\n",
       "\t<tr><td> 1</td><td>22</td><td>1997</td><td>Right-handed</td><td>175</td><td>2017</td><td>Carlos Taberner  </td><td>2015</td></tr>\n",
       "\t<tr><td> 7</td><td>22</td><td>1998</td><td>Right-handed</td><td> 29</td><td>2019</td><td>Frances Tiafoe   </td><td>2015</td></tr>\n",
       "</tbody>\n",
       "</table>\n"
      ],
      "text/latex": [
       "A tibble: 61 × 8\n",
       "\\begin{tabular}{llllllll}\n",
       " Seasons & Age & Birth\\_year & Plays & Best\\_Rank & Best\\_rank\\_year & Name & Turned Pro\\\\\n",
       " <dbl> & <int> & <int> & <chr> & <int> & <int> & <chr> & <dbl>\\\\\n",
       "\\hline\n",
       "\t  3 & 19 & 2000 & Right-handed & 17 & 2019 & Felix Auger Aliassime & 2017\\\\\n",
       "\t  5 & 23 & 1996 & Right-handed &  4 & 2019 & Daniil Medvedev       & 2014\\\\\n",
       "\t 16 & 32 & 1987 & Right-handed &  9 & 2019 & Fabio Fognini         & 2004\\\\\n",
       "\t ⋮ & ⋮ & ⋮ & ⋮ & ⋮ & ⋮ & ⋮ & ⋮\\\\\n",
       "\t 16 & 34 & 1986 & Right-handed &  31 & 2010 & Sergiy Stakhovsky & 2003\\\\\n",
       "\t  1 & 22 & 1997 & Right-handed & 175 & 2017 & Carlos Taberner   & 2015\\\\\n",
       "\t  7 & 22 & 1998 & Right-handed &  29 & 2019 & Frances Tiafoe    & 2015\\\\\n",
       "\\end{tabular}\n"
      ],
      "text/markdown": [
       "\n",
       "A tibble: 61 × 8\n",
       "\n",
       "| Seasons &lt;dbl&gt; | Age &lt;int&gt; | Birth_year &lt;int&gt; | Plays &lt;chr&gt; | Best_Rank &lt;int&gt; | Best_rank_year &lt;int&gt; | Name &lt;chr&gt; | Turned Pro &lt;dbl&gt; |\n",
       "|---|---|---|---|---|---|---|---|\n",
       "|  3 | 19 | 2000 | Right-handed | 17 | 2019 | Felix Auger Aliassime | 2017 |\n",
       "|  5 | 23 | 1996 | Right-handed |  4 | 2019 | Daniil Medvedev       | 2014 |\n",
       "| 16 | 32 | 1987 | Right-handed |  9 | 2019 | Fabio Fognini         | 2004 |\n",
       "| ⋮ | ⋮ | ⋮ | ⋮ | ⋮ | ⋮ | ⋮ | ⋮ |\n",
       "| 16 | 34 | 1986 | Right-handed |  31 | 2010 | Sergiy Stakhovsky | 2003 |\n",
       "|  1 | 22 | 1997 | Right-handed | 175 | 2017 | Carlos Taberner   | 2015 |\n",
       "|  7 | 22 | 1998 | Right-handed |  29 | 2019 | Frances Tiafoe    | 2015 |\n",
       "\n"
      ],
      "text/plain": [
       "   Seasons Age Birth_year Plays        Best_Rank Best_rank_year\n",
       "1   3      19  2000       Right-handed 17        2019          \n",
       "2   5      23  1996       Right-handed  4        2019          \n",
       "3  16      32  1987       Right-handed  9        2019          \n",
       "⋮  ⋮       ⋮   ⋮          ⋮            ⋮         ⋮             \n",
       "59 16      34  1986       Right-handed  31       2010          \n",
       "60  1      22  1997       Right-handed 175       2017          \n",
       "61  7      22  1998       Right-handed  29       2019          \n",
       "   Name                  Turned Pro\n",
       "1  Felix Auger Aliassime 2017      \n",
       "2  Daniil Medvedev       2014      \n",
       "3  Fabio Fognini         2004      \n",
       "⋮  ⋮                     ⋮         \n",
       "59 Sergiy Stakhovsky     2003      \n",
       "60 Carlos Taberner       2015      \n",
       "61 Frances Tiafoe        2015      "
      ]
     },
     "metadata": {},
     "output_type": "display_data"
    }
   ],
   "source": [
    "tennis_split <- initial_split(player_stats_tidy, prop = 0.75, strata = \"Best_Rank\")\n",
    "tennis_training <- training(tennis_split)\n",
    "tennis_training <- testing(tennis_split)\n",
    "\n",
    "tennis_training"
   ]
  },
  {
   "cell_type": "code",
   "execution_count": 6,
   "id": "4501a7c6-205f-4bbc-9763-bcf91016b98e",
   "metadata": {},
   "outputs": [
    {
     "data": {
      "image/png": "[encoded data removed]",
      "text/plain": [
       "plot without title"
      ]
     },
     "metadata": {
      "image/png": {
       "height": 420,
       "width": 420
      }
     },
     "output_type": "display_data"
    }
   ],
   "source": [
    "tennis_plot <- tennis_training|>\n",
    "ggplot(aes(x = Seasons, y = Best_Rank, colour = Plays))+\n",
    "geom_point()+\n",
    "labs(title = \"Number of Season Versus Best Overall Rank\", x = \"Number of Seasons Played\", y = \"Best Rank (Out of 500)\",)+\n",
    "theme(text = element_text(size = 15))\n",
    "tennis_plot"
   ]
  },
  {
   "cell_type": "markdown",
   "id": "d54bc2cc-834c-46b3-b8b2-4a02c716643b",
   "metadata": {},
   "source": [
    "<h2> Expected Outcomes and Significance </h2>\n",
    "<p> We expect players who have played in more seasons to have better rankings due to more experience and practice playing under professional conditions. The impact of such findings would allow people to take the year that any player turned pro and then, using our model, predict around what year that player will be in their prime. This could lead to future questions such as; How can players attempt to prolong the period of their peak performance? What other factors affect how long it takes a professional tennis player to reach their peak?</p>"
   ]
  },
  {
   "cell_type": "code",
   "execution_count": null,
   "id": "cad29c4f-069f-4817-8ded-e61d6c3c30b8",
   "metadata": {},
   "outputs": [],
   "source": []
  }
 ],
 "metadata": {
  "kernelspec": {
   "display_name": "R",
   "language": "R",
   "name": "ir"
  },
  "language_info": {
   "codemirror_mode": "r",
   "file_extension": ".r",
   "mimetype": "text/x-r-source",
   "name": "R",
   "pygments_lexer": "r",
   "version": "4.1.3"
  }
 },
 "nbformat": 4,
 "nbformat_minor": 5
}
