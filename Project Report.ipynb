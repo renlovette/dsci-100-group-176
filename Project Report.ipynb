{
 "cells": [
  {
   "cell_type": "markdown",
   "id": "830ac14a-d11a-4bec-af26-3eaf2ae0a219",
   "metadata": {},
   "source": [
    "<h1> K-NN Regression vs Linear Regression: Predicting a Tennis Player's Prize Money Based on Their Best Rank</h1>\n",
    "\n",
    "<h2> Background Information </h2>\n",
    "    \n",
    "<p> In DSCI 100, we have learned about two ways to predict outcomes from a dataset: classification and regression. Classification is the type of prediction one would use to predict a category. Regression, on the other hand, is used to predict continuous variables. Regression includes two types: k-nn regression and linear regression. Each are useful for different instances: k-nn for non-linear data, and linear for more linear data and to predict past the dataset.\n",
    "    \n",
    "Tennis is asport where a player earns their salarybread mainly through the prize money (excluding endorsements, TV ads, etc.). On average, the top 5 players make around $8 million per year, whereas the players between 50-100 rank get around half a million dollars. This gives us a clear idea that being a professional tennis player is only a profitable profession when you are in the top ranks.</p>"
   ]
  },
  {
   "cell_type": "markdown",
   "id": "3766a9b5-e965-4b40-b0bc-e0b6fae996ad",
   "metadata": {},
   "source": [
    "<h2> Purpose </h2>\n",
    "<p> The purpose of our project is to a) predict how much prize money a pro tennis player can earn given their best rank number, and b) run both k-nn and linear regression models on our data to determine which model best suits our dataset and why. The dataset that will be used to achieve this is the 500 Tennis Players’ Statistics dataset from the Ultimate Tennis Statistics website. The algorithms that will be used are both k-nn regression and linear regression. This is because the variable we want to predict is not categorical. The target variable will be the prize money column and our predictor will be the best rank column of the dataset. Based on the sources we have referred to, they suggest that better performance results in higher prize money. Thus we expect to see that the better the ranking (a lower rank number), the higher the prize money in US dollars.</p>\n",
    "\n",
    "[Link to Top 500 Tennis Players' Statistics](https://www.ultimatetennisstatistics.com/tournamentEvents)"
   ]
  },
  {
   "cell_type": "code",
   "execution_count": 1,
   "id": "a4183693-3a89-425d-9122-404f7345e094",
   "metadata": {},
   "outputs": [
    {
     "name": "stderr",
     "output_type": "stream",
     "text": [
      "── \u001b[1mAttaching packages\u001b[22m ─────────────────────────────────────── tidyverse 1.3.1 ──\n",
      "\n",
      "\u001b[32m✔\u001b[39m \u001b[34mggplot2\u001b[39m 3.3.6     \u001b[32m✔\u001b[39m \u001b[34mpurrr  \u001b[39m 0.3.4\n",
      "\u001b[32m✔\u001b[39m \u001b[34mtibble \u001b[39m 3.1.7     \u001b[32m✔\u001b[39m \u001b[34mdplyr  \u001b[39m 1.0.9\n",
      "\u001b[32m✔\u001b[39m \u001b[34mtidyr  \u001b[39m 1.2.0     \u001b[32m✔\u001b[39m \u001b[34mstringr\u001b[39m 1.4.0\n",
      "\u001b[32m✔\u001b[39m \u001b[34mreadr  \u001b[39m 2.1.2     \u001b[32m✔\u001b[39m \u001b[34mforcats\u001b[39m 0.5.1\n",
      "\n",
      "── \u001b[1mConflicts\u001b[22m ────────────────────────────────────────── tidyverse_conflicts() ──\n",
      "\u001b[31m✖\u001b[39m \u001b[34mdplyr\u001b[39m::\u001b[32mfilter()\u001b[39m masks \u001b[34mstats\u001b[39m::filter()\n",
      "\u001b[31m✖\u001b[39m \u001b[34mdplyr\u001b[39m::\u001b[32mlag()\u001b[39m    masks \u001b[34mstats\u001b[39m::lag()\n",
      "\n",
      "── \u001b[1mAttaching packages\u001b[22m ────────────────────────────────────── tidymodels 1.0.0 ──\n",
      "\n",
      "\u001b[32m✔\u001b[39m \u001b[34mbroom       \u001b[39m 1.0.0     \u001b[32m✔\u001b[39m \u001b[34mrsample     \u001b[39m 1.0.0\n",
      "\u001b[32m✔\u001b[39m \u001b[34mdials       \u001b[39m 1.0.0     \u001b[32m✔\u001b[39m \u001b[34mtune        \u001b[39m 1.0.0\n",
      "\u001b[32m✔\u001b[39m \u001b[34minfer       \u001b[39m 1.0.2     \u001b[32m✔\u001b[39m \u001b[34mworkflows   \u001b[39m 1.0.0\n",
      "\u001b[32m✔\u001b[39m \u001b[34mmodeldata   \u001b[39m 1.0.0     \u001b[32m✔\u001b[39m \u001b[34mworkflowsets\u001b[39m 1.0.0\n",
      "\u001b[32m✔\u001b[39m \u001b[34mparsnip     \u001b[39m 1.0.0     \u001b[32m✔\u001b[39m \u001b[34myardstick   \u001b[39m 1.0.0\n",
      "\u001b[32m✔\u001b[39m \u001b[34mrecipes     \u001b[39m 1.0.1     \n",
      "\n",
      "── \u001b[1mConflicts\u001b[22m ───────────────────────────────────────── tidymodels_conflicts() ──\n",
      "\u001b[31m✖\u001b[39m \u001b[34mscales\u001b[39m::\u001b[32mdiscard()\u001b[39m masks \u001b[34mpurrr\u001b[39m::discard()\n",
      "\u001b[31m✖\u001b[39m \u001b[34mdplyr\u001b[39m::\u001b[32mfilter()\u001b[39m   masks \u001b[34mstats\u001b[39m::filter()\n",
      "\u001b[31m✖\u001b[39m \u001b[34mrecipes\u001b[39m::\u001b[32mfixed()\u001b[39m  masks \u001b[34mstringr\u001b[39m::fixed()\n",
      "\u001b[31m✖\u001b[39m \u001b[34mdplyr\u001b[39m::\u001b[32mlag()\u001b[39m      masks \u001b[34mstats\u001b[39m::lag()\n",
      "\u001b[31m✖\u001b[39m \u001b[34myardstick\u001b[39m::\u001b[32mspec()\u001b[39m masks \u001b[34mreadr\u001b[39m::spec()\n",
      "\u001b[31m✖\u001b[39m \u001b[34mrecipes\u001b[39m::\u001b[32mstep()\u001b[39m   masks \u001b[34mstats\u001b[39m::step()\n",
      "\u001b[34m•\u001b[39m Search for functions across packages at \u001b[32mhttps://www.tidymodels.org/find/\u001b[39m\n",
      "\n"
     ]
    }
   ],
   "source": [
    "#loading libraries\n",
    "library(tidyverse)\n",
    "library(repr)\n",
    "library(tidymodels)\n",
    "library(digest)\n",
    "options(repr.matrix.max.rows = 6)"
   ]
  },
  {
   "cell_type": "markdown",
   "id": "479ea06a-a3d6-4ff5-afab-3f18c9aae364",
   "metadata": {},
   "source": [
    "<h2>Loading and Wrangling Data</h2>\n",
    "\n",
    "<p>Before we begin our analysis and forming models, we want to tidy our data, so that our packages work smoothly on our dataset. We first load the url onto the Jupyter Notebook under the name player_stats.\n",
    "\n",
    "We select the Best Rank column and Prize Money column and get rid of the NAs in the code. All other columns aren’t used. We turned the columns that needed to be numerical into numerical columns. In our dataset, the prize money was spaced in a way in which we could not use it as it was. So in the code we mutate the column by breaking down the entire number into millions, thousands, and hundreds columns and then rejoining them again.\n",
    "\n",
    "Finally, we plot our now tidy dataset with a scatterplot to visualize the relationship between Best Rank and Prize Money. Because we wanted our scales to be readable, our y-axis scale is in thousands, with the axis title showing that each prize money value is x $1000. \n",
    "\n",
    "Based on Figure 1 (below), we see a downward exponential trend as a relationship between Best Rank and Prize Money. The better the rank, the higher the prize money, as expected. From this plot, we can also gather that k-nn will most likely work better for this model given that it is not a linear or near-linear relationship. However, we will still show both forms of regression to visually see which one works best. </p>"
   ]
  },
  {
   "cell_type": "code",
   "execution_count": 2,
   "id": "317df577-8e62-4266-abff-46bdb8e0d849",
   "metadata": {},
   "outputs": [
    {
     "name": "stderr",
     "output_type": "stream",
     "text": [
      "\u001b[1m\u001b[22mNew names:\n",
      "\u001b[36m•\u001b[39m `` -> `...1`\n",
      "\u001b[1mRows: \u001b[22m\u001b[34m500\u001b[39m \u001b[1mColumns: \u001b[22m\u001b[34m38\u001b[39m\n",
      "\u001b[36m──\u001b[39m \u001b[1mColumn specification\u001b[22m \u001b[36m────────────────────────────────────────────────────────\u001b[39m\n",
      "\u001b[1mDelimiter:\u001b[22m \",\"\n",
      "\u001b[31mchr\u001b[39m (25): Age, Country, Plays, Wikipedia, Current Rank, Best Rank, Name, Bac...\n",
      "\u001b[32mdbl\u001b[39m (13): ...1, Turned Pro, Seasons, Titles, Best Season, Retired, Masters, ...\n",
      "\n",
      "\u001b[36mℹ\u001b[39m Use `spec()` to retrieve the full column specification for this data.\n",
      "\u001b[36mℹ\u001b[39m Specify the column types or set `show_col_types = FALSE` to quiet this message.\n",
      "Warning message:\n",
      "“Expected 4 pieces. Additional pieces discarded in 499 rows [1, 2, 3, 4, 5, 6, 7, 8, 9, 10, 11, 12, 13, 14, 15, 16, 17, 18, 19, 20, ...].”\n",
      "Warning message:\n",
      "“Expected 4 pieces. Additional pieces discarded in 21 rows [16, 96, 128, 142, 208, 212, 228, 267, 274, 337, 363, 364, 381, 394, 414, 423, 435, 436, 461, 468, ...].”\n",
      "Warning message:\n",
      "“Expected 4 pieces. Missing pieces filled with `NA` in 264 rows [2, 4, 7, 8, 9, 10, 13, 14, 15, 18, 23, 24, 25, 26, 27, 28, 31, 32, 33, 34, ...].”\n"
     ]
    }
   ],
   "source": [
    "# setting seed\n",
    "set.seed(1552)\n",
    "\n",
    "# load data\n",
    "player_stats <- read_csv(\"https://drive.google.com/uc?export=download&id=1_MECmUXZuuILYeEOfonSGqodW6qVdhsS\")\n",
    "\n",
    "# tidy data\n",
    "players_tidy <- player_stats|>\n",
    "    separate(col = \"Best Rank\",\n",
    "             into = c(\"best_rank\", \n",
    "                   \"Best_rank_day\", \"Best_rank_month\", \"Best_rank_year\"),\n",
    "            convert = TRUE) |>\n",
    "    select(-Best_rank_day, -Best_rank_month) |>\n",
    "    rename(\"prize_money\" = \"Prize Money\")|>\n",
    "    separate(prize_money, c(NA, \"millions\", \"thousands\", \"hundreds\"))|>\n",
    "    mutate(millions = as.numeric(millions))|>\n",
    "    mutate(thousands = as.numeric(thousands))|>\n",
    "    mutate(hundreds = as.numeric(hundreds))|>\n",
    "    mutate(millions = millions * 1000000)|>\n",
    "    mutate(thousands = thousands * 1000)|>\n",
    "    mutate(prize_money = millions + thousands + hundreds)|>\n",
    "    mutate(prize_money= prize_money/1000)|>\n",
    "    select(prize_money, best_rank)|>\n",
    "    na.omit()\n",
    "\n",
    "#scatterplot best rank vs. prize money\n",
    "options(repr.plot.width = 15, repr.plot.height = 10)\n",
    "\n",
    "players_plot<-players_tidy|>\n",
    "    ggplot(aes(x = best_rank, y = prize_money))+\n",
    "    geom_point()+\n",
    "    labs(x = \"Best Rank\", y = \"Prize Money (x $1000)\")+\n",
    "    ggtitle(\"Figure 1: Prize Money Vs Player's Best Rank\")+\n",
    "    ylim(0,40000)+\n",
    "    xlim(0,150)+\n",
    "    theme(text = element_text(size = 20))\n"
   ]
  },
  {
   "cell_type": "code",
   "execution_count": 3,
   "id": "679ac3c4-bff5-4e52-9889-0c2208f727fe",
   "metadata": {},
   "outputs": [
    {
     "data": {
      "text/html": [
       "<table class=\"dataframe\">\n",
       "<caption>A spec_tbl_df: 500 × 38</caption>\n",
       "<thead>\n",
       "\t<tr><th scope=col>...1</th><th scope=col>Age</th><th scope=col>Country</th><th scope=col>Plays</th><th scope=col>Wikipedia</th><th scope=col>Current Rank</th><th scope=col>Best Rank</th><th scope=col>Name</th><th scope=col>Backhand</th><th scope=col>Prize Money</th><th scope=col>⋯</th><th scope=col>Facebook</th><th scope=col>Twitter</th><th scope=col>Nicknames</th><th scope=col>Grand Slams</th><th scope=col>Davis Cups</th><th scope=col>Web Site</th><th scope=col>Team Cups</th><th scope=col>Olympics</th><th scope=col>Weeks at No. 1</th><th scope=col>Tour Finals</th></tr>\n",
       "\t<tr><th scope=col>&lt;dbl&gt;</th><th scope=col>&lt;chr&gt;</th><th scope=col>&lt;chr&gt;</th><th scope=col>&lt;chr&gt;</th><th scope=col>&lt;chr&gt;</th><th scope=col>&lt;chr&gt;</th><th scope=col>&lt;chr&gt;</th><th scope=col>&lt;chr&gt;</th><th scope=col>&lt;chr&gt;</th><th scope=col>&lt;chr&gt;</th><th scope=col>⋯</th><th scope=col>&lt;chr&gt;</th><th scope=col>&lt;chr&gt;</th><th scope=col>&lt;chr&gt;</th><th scope=col>&lt;dbl&gt;</th><th scope=col>&lt;dbl&gt;</th><th scope=col>&lt;chr&gt;</th><th scope=col>&lt;dbl&gt;</th><th scope=col>&lt;dbl&gt;</th><th scope=col>&lt;dbl&gt;</th><th scope=col>&lt;dbl&gt;</th></tr>\n",
       "</thead>\n",
       "<tbody>\n",
       "\t<tr><td>0</td><td>26 (25-04-1993)</td><td>Brazil        </td><td>Right-handed</td><td>Wikipedia</td><td>378 (97) </td><td>363 (04-11-2019)</td><td>Oscar Jose Gutierrez</td><td>NA        </td><td>NA          </td><td>⋯</td><td>NA</td><td>NA</td><td>NA</td><td>NA</td><td>NA</td><td>NA</td><td>NA</td><td>NA</td><td>NA</td><td>NA</td></tr>\n",
       "\t<tr><td>1</td><td>18 (22-12-2001)</td><td>United Kingdom</td><td>Left-handed </td><td>Wikipedia</td><td>326 (119)</td><td>316 (14-10-2019)</td><td>Jack Draper         </td><td>Two-handed</td><td>$59,040     </td><td>⋯</td><td>NA</td><td>NA</td><td>NA</td><td>NA</td><td>NA</td><td>NA</td><td>NA</td><td>NA</td><td>NA</td><td>NA</td></tr>\n",
       "\t<tr><td>2</td><td>32 (03-11-1987)</td><td>Slovakia      </td><td>Right-handed</td><td>Wikipedia</td><td>178 (280)</td><td>44 (14-01-2013) </td><td>Lukas Lacko         </td><td>Two-handed</td><td>US$3,261,567</td><td>⋯</td><td>NA</td><td>NA</td><td>NA</td><td>NA</td><td>NA</td><td>NA</td><td>NA</td><td>NA</td><td>NA</td><td>NA</td></tr>\n",
       "\t<tr><td>⋮</td><td>⋮</td><td>⋮</td><td>⋮</td><td>⋮</td><td>⋮</td><td>⋮</td><td>⋮</td><td>⋮</td><td>⋮</td><td>⋱</td><td>⋮</td><td>⋮</td><td>⋮</td><td>⋮</td><td>⋮</td><td>⋮</td><td>⋮</td><td>⋮</td><td>⋮</td><td>⋮</td></tr>\n",
       "\t<tr><td>497</td><td>23 (14-03-1996)</td><td>Netherlands</td><td>Left-handed</td><td>Wikipedia</td><td>495 (60)</td><td>342 (05-08-2019)</td><td>Gijs Brouwer   </td><td>NA        </td><td>NA     </td><td>⋯</td><td>NA</td><td>NA</td><td>NA</td><td>NA</td><td>NA</td><td>NA</td><td>NA</td><td>NA</td><td>NA</td><td>NA</td></tr>\n",
       "\t<tr><td>498</td><td>24 (17-05-1995)</td><td>Ukraine    </td><td>NA         </td><td>Wikipedia</td><td>419 (81)</td><td>419 (20-01-2020)</td><td>Vladyslav Orlov</td><td>NA        </td><td>NA     </td><td>⋯</td><td>NA</td><td>NA</td><td>NA</td><td>NA</td><td>NA</td><td>NA</td><td>NA</td><td>NA</td><td>NA</td><td>NA</td></tr>\n",
       "\t<tr><td>499</td><td>22 (26-03-1997)</td><td>Tunisia    </td><td>Left-handed</td><td>Wikipedia</td><td>451 (69)</td><td>408 (24-12-2018)</td><td>Aziz Dougaz    </td><td>Two-handed</td><td>$61,984</td><td>⋯</td><td>NA</td><td>NA</td><td>NA</td><td>NA</td><td>NA</td><td>NA</td><td>NA</td><td>NA</td><td>NA</td><td>NA</td></tr>\n",
       "</tbody>\n",
       "</table>\n"
      ],
      "text/latex": [
       "A spec\\_tbl\\_df: 500 × 38\n",
       "\\begin{tabular}{lllllllllllllllllllll}\n",
       " ...1 & Age & Country & Plays & Wikipedia & Current Rank & Best Rank & Name & Backhand & Prize Money & ⋯ & Facebook & Twitter & Nicknames & Grand Slams & Davis Cups & Web Site & Team Cups & Olympics & Weeks at No. 1 & Tour Finals\\\\\n",
       " <dbl> & <chr> & <chr> & <chr> & <chr> & <chr> & <chr> & <chr> & <chr> & <chr> & ⋯ & <chr> & <chr> & <chr> & <dbl> & <dbl> & <chr> & <dbl> & <dbl> & <dbl> & <dbl>\\\\\n",
       "\\hline\n",
       "\t 0 & 26 (25-04-1993) & Brazil         & Right-handed & Wikipedia & 378 (97)  & 363 (04-11-2019) & Oscar Jose Gutierrez & NA         & NA           & ⋯ & NA & NA & NA & NA & NA & NA & NA & NA & NA & NA\\\\\n",
       "\t 1 & 18 (22-12-2001) & United Kingdom & Left-handed  & Wikipedia & 326 (119) & 316 (14-10-2019) & Jack Draper          & Two-handed & \\$59,040      & ⋯ & NA & NA & NA & NA & NA & NA & NA & NA & NA & NA\\\\\n",
       "\t 2 & 32 (03-11-1987) & Slovakia       & Right-handed & Wikipedia & 178 (280) & 44 (14-01-2013)  & Lukas Lacko          & Two-handed & US\\$3,261,567 & ⋯ & NA & NA & NA & NA & NA & NA & NA & NA & NA & NA\\\\\n",
       "\t ⋮ & ⋮ & ⋮ & ⋮ & ⋮ & ⋮ & ⋮ & ⋮ & ⋮ & ⋮ & ⋱ & ⋮ & ⋮ & ⋮ & ⋮ & ⋮ & ⋮ & ⋮ & ⋮ & ⋮ & ⋮\\\\\n",
       "\t 497 & 23 (14-03-1996) & Netherlands & Left-handed & Wikipedia & 495 (60) & 342 (05-08-2019) & Gijs Brouwer    & NA         & NA      & ⋯ & NA & NA & NA & NA & NA & NA & NA & NA & NA & NA\\\\\n",
       "\t 498 & 24 (17-05-1995) & Ukraine     & NA          & Wikipedia & 419 (81) & 419 (20-01-2020) & Vladyslav Orlov & NA         & NA      & ⋯ & NA & NA & NA & NA & NA & NA & NA & NA & NA & NA\\\\\n",
       "\t 499 & 22 (26-03-1997) & Tunisia     & Left-handed & Wikipedia & 451 (69) & 408 (24-12-2018) & Aziz Dougaz     & Two-handed & \\$61,984 & ⋯ & NA & NA & NA & NA & NA & NA & NA & NA & NA & NA\\\\\n",
       "\\end{tabular}\n"
      ],
      "text/markdown": [
       "\n",
       "A spec_tbl_df: 500 × 38\n",
       "\n",
       "| ...1 &lt;dbl&gt; | Age &lt;chr&gt; | Country &lt;chr&gt; | Plays &lt;chr&gt; | Wikipedia &lt;chr&gt; | Current Rank &lt;chr&gt; | Best Rank &lt;chr&gt; | Name &lt;chr&gt; | Backhand &lt;chr&gt; | Prize Money &lt;chr&gt; | ⋯ ⋯ | Facebook &lt;chr&gt; | Twitter &lt;chr&gt; | Nicknames &lt;chr&gt; | Grand Slams &lt;dbl&gt; | Davis Cups &lt;dbl&gt; | Web Site &lt;chr&gt; | Team Cups &lt;dbl&gt; | Olympics &lt;dbl&gt; | Weeks at No. 1 &lt;dbl&gt; | Tour Finals &lt;dbl&gt; |\n",
       "|---|---|---|---|---|---|---|---|---|---|---|---|---|---|---|---|---|---|---|---|---|\n",
       "| 0 | 26 (25-04-1993) | Brazil         | Right-handed | Wikipedia | 378 (97)  | 363 (04-11-2019) | Oscar Jose Gutierrez | NA         | NA           | ⋯ | NA | NA | NA | NA | NA | NA | NA | NA | NA | NA |\n",
       "| 1 | 18 (22-12-2001) | United Kingdom | Left-handed  | Wikipedia | 326 (119) | 316 (14-10-2019) | Jack Draper          | Two-handed | $59,040      | ⋯ | NA | NA | NA | NA | NA | NA | NA | NA | NA | NA |\n",
       "| 2 | 32 (03-11-1987) | Slovakia       | Right-handed | Wikipedia | 178 (280) | 44 (14-01-2013)  | Lukas Lacko          | Two-handed | US$3,261,567 | ⋯ | NA | NA | NA | NA | NA | NA | NA | NA | NA | NA |\n",
       "| ⋮ | ⋮ | ⋮ | ⋮ | ⋮ | ⋮ | ⋮ | ⋮ | ⋮ | ⋮ | ⋱ | ⋮ | ⋮ | ⋮ | ⋮ | ⋮ | ⋮ | ⋮ | ⋮ | ⋮ | ⋮ |\n",
       "| 497 | 23 (14-03-1996) | Netherlands | Left-handed | Wikipedia | 495 (60) | 342 (05-08-2019) | Gijs Brouwer    | NA         | NA      | ⋯ | NA | NA | NA | NA | NA | NA | NA | NA | NA | NA |\n",
       "| 498 | 24 (17-05-1995) | Ukraine     | NA          | Wikipedia | 419 (81) | 419 (20-01-2020) | Vladyslav Orlov | NA         | NA      | ⋯ | NA | NA | NA | NA | NA | NA | NA | NA | NA | NA |\n",
       "| 499 | 22 (26-03-1997) | Tunisia     | Left-handed | Wikipedia | 451 (69) | 408 (24-12-2018) | Aziz Dougaz     | Two-handed | $61,984 | ⋯ | NA | NA | NA | NA | NA | NA | NA | NA | NA | NA |\n",
       "\n"
      ],
      "text/plain": [
       "    ...1 Age             Country        Plays        Wikipedia Current Rank\n",
       "1   0    26 (25-04-1993) Brazil         Right-handed Wikipedia 378 (97)    \n",
       "2   1    18 (22-12-2001) United Kingdom Left-handed  Wikipedia 326 (119)   \n",
       "3   2    32 (03-11-1987) Slovakia       Right-handed Wikipedia 178 (280)   \n",
       "⋮   ⋮    ⋮               ⋮              ⋮            ⋮         ⋮           \n",
       "498 497  23 (14-03-1996) Netherlands    Left-handed  Wikipedia 495 (60)    \n",
       "499 498  24 (17-05-1995) Ukraine        NA           Wikipedia 419 (81)    \n",
       "500 499  22 (26-03-1997) Tunisia        Left-handed  Wikipedia 451 (69)    \n",
       "    Best Rank        Name                 Backhand   Prize Money  ⋯ Facebook\n",
       "1   363 (04-11-2019) Oscar Jose Gutierrez NA         NA           ⋯ NA      \n",
       "2   316 (14-10-2019) Jack Draper          Two-handed $59,040      ⋯ NA      \n",
       "3   44 (14-01-2013)  Lukas Lacko          Two-handed US$3,261,567 ⋯ NA      \n",
       "⋮   ⋮                ⋮                    ⋮          ⋮            ⋱ ⋮       \n",
       "498 342 (05-08-2019) Gijs Brouwer         NA         NA           ⋯ NA      \n",
       "499 419 (20-01-2020) Vladyslav Orlov      NA         NA           ⋯ NA      \n",
       "500 408 (24-12-2018) Aziz Dougaz          Two-handed $61,984      ⋯ NA      \n",
       "    Twitter Nicknames Grand Slams Davis Cups Web Site Team Cups Olympics\n",
       "1   NA      NA        NA          NA         NA       NA        NA      \n",
       "2   NA      NA        NA          NA         NA       NA        NA      \n",
       "3   NA      NA        NA          NA         NA       NA        NA      \n",
       "⋮   ⋮       ⋮         ⋮           ⋮          ⋮        ⋮         ⋮       \n",
       "498 NA      NA        NA          NA         NA       NA        NA      \n",
       "499 NA      NA        NA          NA         NA       NA        NA      \n",
       "500 NA      NA        NA          NA         NA       NA        NA      \n",
       "    Weeks at No. 1 Tour Finals\n",
       "1   NA             NA         \n",
       "2   NA             NA         \n",
       "3   NA             NA         \n",
       "⋮   ⋮              ⋮          \n",
       "498 NA             NA         \n",
       "499 NA             NA         \n",
       "500 NA             NA         "
      ]
     },
     "metadata": {},
     "output_type": "display_data"
    }
   ],
   "source": [
    "player_stats"
   ]
  },
  {
   "cell_type": "markdown",
   "id": "7a6e7cd1-4a8e-447b-8f26-26d7cd66fd5f",
   "metadata": {},
   "source": [
    "**Table 1.0: Top 500 Tennis Players' Statistics Dataset**"
   ]
  },
  {
   "cell_type": "code",
   "execution_count": 4,
   "id": "2c4c1914-a8a5-4e8d-93eb-4ce24db257c6",
   "metadata": {},
   "outputs": [
    {
     "data": {
      "text/html": [
       "<table class=\"dataframe\">\n",
       "<caption>A tibble: 155 × 2</caption>\n",
       "<thead>\n",
       "\t<tr><th scope=col>prize_money</th><th scope=col>best_rank</th></tr>\n",
       "\t<tr><th scope=col>&lt;dbl&gt;</th><th scope=col>&lt;int&gt;</th></tr>\n",
       "</thead>\n",
       "<tbody>\n",
       "\t<tr><td>3261.567</td><td>44</td></tr>\n",
       "\t<tr><td>6091.971</td><td>17</td></tr>\n",
       "\t<tr><td>1517.157</td><td>31</td></tr>\n",
       "\t<tr><td>⋮</td><td>⋮</td></tr>\n",
       "\t<tr><td> 1703.096</td><td>58</td></tr>\n",
       "\t<tr><td> 1048.314</td><td>74</td></tr>\n",
       "\t<tr><td>22132.368</td><td> 4</td></tr>\n",
       "</tbody>\n",
       "</table>\n"
      ],
      "text/latex": [
       "A tibble: 155 × 2\n",
       "\\begin{tabular}{ll}\n",
       " prize\\_money & best\\_rank\\\\\n",
       " <dbl> & <int>\\\\\n",
       "\\hline\n",
       "\t 3261.567 & 44\\\\\n",
       "\t 6091.971 & 17\\\\\n",
       "\t 1517.157 & 31\\\\\n",
       "\t ⋮ & ⋮\\\\\n",
       "\t  1703.096 & 58\\\\\n",
       "\t  1048.314 & 74\\\\\n",
       "\t 22132.368 &  4\\\\\n",
       "\\end{tabular}\n"
      ],
      "text/markdown": [
       "\n",
       "A tibble: 155 × 2\n",
       "\n",
       "| prize_money &lt;dbl&gt; | best_rank &lt;int&gt; |\n",
       "|---|---|\n",
       "| 3261.567 | 44 |\n",
       "| 6091.971 | 17 |\n",
       "| 1517.157 | 31 |\n",
       "| ⋮ | ⋮ |\n",
       "|  1703.096 | 58 |\n",
       "|  1048.314 | 74 |\n",
       "| 22132.368 |  4 |\n",
       "\n"
      ],
      "text/plain": [
       "    prize_money best_rank\n",
       "1   3261.567    44       \n",
       "2   6091.971    17       \n",
       "3   1517.157    31       \n",
       "⋮   ⋮           ⋮        \n",
       "153  1703.096   58       \n",
       "154  1048.314   74       \n",
       "155 22132.368    4       "
      ]
     },
     "metadata": {},
     "output_type": "display_data"
    }
   ],
   "source": [
    " players_tidy"
   ]
  },
  {
   "cell_type": "markdown",
   "id": "817ad9e6-25e3-4606-937c-01075c4c6d8d",
   "metadata": {},
   "source": [
    " **Table 1.1: Tidied dataframe**"
   ]
  },
  {
   "cell_type": "code",
   "execution_count": 5,
   "id": "1916c20e-65b4-414a-a453-48a63a1debdb",
   "metadata": {},
   "outputs": [
    {
     "name": "stderr",
     "output_type": "stream",
     "text": [
      "Warning message:\n",
      "“Removed 4 rows containing missing values (geom_point).”\n"
     ]
    },
    {
     "data": {
      "image/png": "[encoded data removed]",
      "text/plain": [
       "plot without title"
      ]
     },
     "metadata": {
      "image/png": {
       "height": 600,
       "width": 900
      }
     },
     "output_type": "display_data"
    }
   ],
   "source": [
    "players_plot"
   ]
  },
  {
   "cell_type": "markdown",
   "id": "cdd71fbd-a641-4268-97f4-b7261b294de0",
   "metadata": {},
   "source": [
    "<h2> K-nn Regression Model</h2>\n",
    "\n",
    "<p>For our first model, we will be using the K-nearest neighbor regression algorithm with our data to calculate the RSMPE of this model to be compared to the RSMPE of the linear regression model. Because we are predicting numerical values, we would be approaching the data with regression instead of classification. \n",
    "\n",
    "Our responding variable is the amount of prize money earned by a tennis player in dollars (prize_money), to be predicted by the players’ best rank (best_rank).\n",
    "\n",
    "Before performing the k-nn regression, the data has been loaded and cleaned, and the seed has been set. Then we split the data into players_training and players_testing to prevent the model from overfitting. We will use players_training as our training set when we are building the model and players_testing as our testing set for when we are evaluating the model.\n",
    "</p>"
   ]
  },
  {
   "cell_type": "code",
   "execution_count": 6,
   "id": "37861510-edd4-4ce6-b4f0-5aea358d9226",
   "metadata": {},
   "outputs": [],
   "source": [
    "set.seed(4242)\n",
    "\n",
    "#splitting data\n",
    "players_split<-initial_split(players_tidy, prop = 0.75, strata = prize_money)\n",
    "players_training<-training(players_split)\n",
    "players_testing<-testing(players_split)"
   ]
  },
  {
   "cell_type": "markdown",
   "id": "e6849231-0d6a-42f7-a616-ed75c3323aa1",
   "metadata": {},
   "source": [
    "<p>Our prediction will be made using neighboring points. To select K, we will perform cross-validation following the RMSPE formula which differentiates K-nn regression from K-nn classification. To do this we need to create a recipe which specifies\n",
    "the prize-money as our responding variable and best_rank as our predictor variable. Because we are using only 1 predictor, it is unnecessary to perform scaling, but for precautionary measures we will scale. We then set the model specification to perform K-nn regression.\n",
    "</p>"
   ]
  },
  {
   "cell_type": "code",
   "execution_count": 7,
   "id": "ea924212-c1f7-4af6-830a-c249e9a55df4",
   "metadata": {},
   "outputs": [],
   "source": [
    "#recipe\n",
    "players_recipe<-recipe(prize_money ~ best_rank, data = players_training)|>\n",
    "    step_scale(all_predictors())|>\n",
    "    step_center(all_predictors())\n",
    "\n",
    "#model specification\n",
    "players_spec<-nearest_neighbor(weight_func = \"rectangular\", neighbors = tune())|>\n",
    "    set_engine(\"kknn\")|>\n",
    "    set_mode(\"regression\")"
   ]
  },
  {
   "cell_type": "markdown",
   "id": "edfde1a0-7d55-41b7-8f11-0d6ff2d46339",
   "metadata": {},
   "source": [
    "<p>The recipe and the model specification is then combined in the workflow. Here is also where we initiate a 5-fold cross-validation object:</p>"
   ]
  },
  {
   "cell_type": "code",
   "execution_count": 8,
   "id": "9e54b8da-86c8-4253-904f-2074923636f7",
   "metadata": {},
   "outputs": [
    {
     "name": "stderr",
     "output_type": "stream",
     "text": [
      "Warning message:\n",
      "“tune samples were requested but there were 115 rows in the data. 110 will be used.”\n"
     ]
    }
   ],
   "source": [
    "#making workflow\n",
    "set.seed(4205)\n",
    "players_vfold<-vfold_cv(players_training, v = 5, strata = prize_money)\n",
    "\n",
    "players_fit<-workflow()|>\n",
    "    add_recipe(players_recipe)|>\n",
    "    add_model(players_spec)|>\n",
    "    fit(players_training)"
   ]
  },
  {
   "cell_type": "markdown",
   "id": "097eb73f-431f-4a11-b1d2-cbfec123a195",
   "metadata": {},
   "source": [
    "<p>Using our workflow and the RMSPE, we find the best K by testing 50 values of K. We want our workflow to test all the values of K and perform resampling. The best K will have the minimum RMSPE value.</p>"
   ]
  },
  {
   "cell_type": "code",
   "execution_count": 14,
   "id": "0e1d6ed0-ad93-427c-b281-652eb50aec3a",
   "metadata": {},
   "outputs": [],
   "source": [
    "#knn regression metrics\n",
    "set.seed(3764)\n",
    "gridvals<-tibble(neighbors = seq(1, 50))\n",
    "\n",
    "players_results<- players_fit|>\n",
    "    tune_grid(resamples = players_vfold, grid = gridvals)|>\n",
    "    collect_metrics()\n",
    "\n",
    "#arranging metrics to find minimum RMSPE value\n",
    "players_min<-players_results|>\n",
    "    filter(.metric == \"rmse\")|>\n",
    "    arrange(std_err)|>\n",
    "    slice(1)"
   ]
  },
  {
   "cell_type": "code",
   "execution_count": 15,
   "id": "2911b035-202d-4f00-bbad-0bb207a49db3",
   "metadata": {},
   "outputs": [
    {
     "data": {
      "text/html": [
       "<table class=\"dataframe\">\n",
       "<caption>A tibble: 100 × 7</caption>\n",
       "<thead>\n",
       "\t<tr><th scope=col>neighbors</th><th scope=col>.metric</th><th scope=col>.estimator</th><th scope=col>mean</th><th scope=col>n</th><th scope=col>std_err</th><th scope=col>.config</th></tr>\n",
       "\t<tr><th scope=col>&lt;int&gt;</th><th scope=col>&lt;chr&gt;</th><th scope=col>&lt;chr&gt;</th><th scope=col>&lt;dbl&gt;</th><th scope=col>&lt;int&gt;</th><th scope=col>&lt;dbl&gt;</th><th scope=col>&lt;chr&gt;</th></tr>\n",
       "</thead>\n",
       "<tbody>\n",
       "\t<tr><td>1</td><td>rmse</td><td>standard</td><td>7558.0817145</td><td>5</td><td>2.070785e+03</td><td>Preprocessor1_Model01</td></tr>\n",
       "\t<tr><td>1</td><td>rsq </td><td>standard</td><td>   0.6807709</td><td>5</td><td>9.185236e-02</td><td>Preprocessor1_Model01</td></tr>\n",
       "\t<tr><td>2</td><td>rmse</td><td>standard</td><td>5913.7306939</td><td>5</td><td>1.834785e+03</td><td>Preprocessor1_Model02</td></tr>\n",
       "\t<tr><td>⋮</td><td>⋮</td><td>⋮</td><td>⋮</td><td>⋮</td><td>⋮</td><td>⋮</td></tr>\n",
       "\t<tr><td>49</td><td>rsq </td><td>standard</td><td>4.004500e-01</td><td>5</td><td>8.669204e-02</td><td>Preprocessor1_Model49</td></tr>\n",
       "\t<tr><td>50</td><td>rmse</td><td>standard</td><td>1.242536e+04</td><td>5</td><td>4.933862e+03</td><td>Preprocessor1_Model50</td></tr>\n",
       "\t<tr><td>50</td><td>rsq </td><td>standard</td><td>3.946393e-01</td><td>5</td><td>8.372357e-02</td><td>Preprocessor1_Model50</td></tr>\n",
       "</tbody>\n",
       "</table>\n"
      ],
      "text/latex": [
       "A tibble: 100 × 7\n",
       "\\begin{tabular}{lllllll}\n",
       " neighbors & .metric & .estimator & mean & n & std\\_err & .config\\\\\n",
       " <int> & <chr> & <chr> & <dbl> & <int> & <dbl> & <chr>\\\\\n",
       "\\hline\n",
       "\t 1 & rmse & standard & 7558.0817145 & 5 & 2.070785e+03 & Preprocessor1\\_Model01\\\\\n",
       "\t 1 & rsq  & standard &    0.6807709 & 5 & 9.185236e-02 & Preprocessor1\\_Model01\\\\\n",
       "\t 2 & rmse & standard & 5913.7306939 & 5 & 1.834785e+03 & Preprocessor1\\_Model02\\\\\n",
       "\t ⋮ & ⋮ & ⋮ & ⋮ & ⋮ & ⋮ & ⋮\\\\\n",
       "\t 49 & rsq  & standard & 4.004500e-01 & 5 & 8.669204e-02 & Preprocessor1\\_Model49\\\\\n",
       "\t 50 & rmse & standard & 1.242536e+04 & 5 & 4.933862e+03 & Preprocessor1\\_Model50\\\\\n",
       "\t 50 & rsq  & standard & 3.946393e-01 & 5 & 8.372357e-02 & Preprocessor1\\_Model50\\\\\n",
       "\\end{tabular}\n"
      ],
      "text/markdown": [
       "\n",
       "A tibble: 100 × 7\n",
       "\n",
       "| neighbors &lt;int&gt; | .metric &lt;chr&gt; | .estimator &lt;chr&gt; | mean &lt;dbl&gt; | n &lt;int&gt; | std_err &lt;dbl&gt; | .config &lt;chr&gt; |\n",
       "|---|---|---|---|---|---|---|\n",
       "| 1 | rmse | standard | 7558.0817145 | 5 | 2.070785e+03 | Preprocessor1_Model01 |\n",
       "| 1 | rsq  | standard |    0.6807709 | 5 | 9.185236e-02 | Preprocessor1_Model01 |\n",
       "| 2 | rmse | standard | 5913.7306939 | 5 | 1.834785e+03 | Preprocessor1_Model02 |\n",
       "| ⋮ | ⋮ | ⋮ | ⋮ | ⋮ | ⋮ | ⋮ |\n",
       "| 49 | rsq  | standard | 4.004500e-01 | 5 | 8.669204e-02 | Preprocessor1_Model49 |\n",
       "| 50 | rmse | standard | 1.242536e+04 | 5 | 4.933862e+03 | Preprocessor1_Model50 |\n",
       "| 50 | rsq  | standard | 3.946393e-01 | 5 | 8.372357e-02 | Preprocessor1_Model50 |\n",
       "\n"
      ],
      "text/plain": [
       "    neighbors .metric .estimator mean         n std_err     \n",
       "1   1         rmse    standard   7558.0817145 5 2.070785e+03\n",
       "2   1         rsq     standard      0.6807709 5 9.185236e-02\n",
       "3   2         rmse    standard   5913.7306939 5 1.834785e+03\n",
       "⋮   ⋮         ⋮       ⋮          ⋮            ⋮ ⋮           \n",
       "98  49        rsq     standard   4.004500e-01 5 8.669204e-02\n",
       "99  50        rmse    standard   1.242536e+04 5 4.933862e+03\n",
       "100 50        rsq     standard   3.946393e-01 5 8.372357e-02\n",
       "    .config              \n",
       "1   Preprocessor1_Model01\n",
       "2   Preprocessor1_Model01\n",
       "3   Preprocessor1_Model02\n",
       "⋮   ⋮                    \n",
       "98  Preprocessor1_Model49\n",
       "99  Preprocessor1_Model50\n",
       "100 Preprocessor1_Model50"
      ]
     },
     "metadata": {},
     "output_type": "display_data"
    }
   ],
   "source": [
    "players_results"
   ]
  },
  {
   "cell_type": "markdown",
   "id": "874a499b-a578-4319-a55c-c25f34c8e31a",
   "metadata": {},
   "source": [
    "**Table 2.0: K-nn Regression Workflow Results**"
   ]
  },
  {
   "cell_type": "code",
   "execution_count": 16,
   "id": "9a9984b9-396d-4cc7-a894-83378f1cd65b",
   "metadata": {},
   "outputs": [
    {
     "data": {
      "text/html": [
       "<table class=\"dataframe\">\n",
       "<caption>A tibble: 1 × 7</caption>\n",
       "<thead>\n",
       "\t<tr><th scope=col>neighbors</th><th scope=col>.metric</th><th scope=col>.estimator</th><th scope=col>mean</th><th scope=col>n</th><th scope=col>std_err</th><th scope=col>.config</th></tr>\n",
       "\t<tr><th scope=col>&lt;int&gt;</th><th scope=col>&lt;chr&gt;</th><th scope=col>&lt;chr&gt;</th><th scope=col>&lt;dbl&gt;</th><th scope=col>&lt;int&gt;</th><th scope=col>&lt;dbl&gt;</th><th scope=col>&lt;chr&gt;</th></tr>\n",
       "</thead>\n",
       "<tbody>\n",
       "\t<tr><td>2</td><td>rmse</td><td>standard</td><td>5913.731</td><td>5</td><td>1834.785</td><td>Preprocessor1_Model02</td></tr>\n",
       "</tbody>\n",
       "</table>\n"
      ],
      "text/latex": [
       "A tibble: 1 × 7\n",
       "\\begin{tabular}{lllllll}\n",
       " neighbors & .metric & .estimator & mean & n & std\\_err & .config\\\\\n",
       " <int> & <chr> & <chr> & <dbl> & <int> & <dbl> & <chr>\\\\\n",
       "\\hline\n",
       "\t 2 & rmse & standard & 5913.731 & 5 & 1834.785 & Preprocessor1\\_Model02\\\\\n",
       "\\end{tabular}\n"
      ],
      "text/markdown": [
       "\n",
       "A tibble: 1 × 7\n",
       "\n",
       "| neighbors &lt;int&gt; | .metric &lt;chr&gt; | .estimator &lt;chr&gt; | mean &lt;dbl&gt; | n &lt;int&gt; | std_err &lt;dbl&gt; | .config &lt;chr&gt; |\n",
       "|---|---|---|---|---|---|---|\n",
       "| 2 | rmse | standard | 5913.731 | 5 | 1834.785 | Preprocessor1_Model02 |\n",
       "\n"
      ],
      "text/plain": [
       "  neighbors .metric .estimator mean     n std_err  .config              \n",
       "1 2         rmse    standard   5913.731 5 1834.785 Preprocessor1_Model02"
      ]
     },
     "metadata": {},
     "output_type": "display_data"
    }
   ],
   "source": [
    "players_min"
   ]
  },
  {
   "cell_type": "markdown",
   "id": "b93b70c0-bf1e-4fa2-ab66-2109089d5283",
   "metadata": {},
   "source": [
    "**Table 2.1: Minimum RMSPE value**"
   ]
  },
  {
   "cell_type": "markdown",
   "id": "5c6d78b4-b09f-4f58-a18a-3bee09b18a61",
   "metadata": {},
   "source": [
    " <p>From Table 2.1 (above), we found the K = 2 to be the best value for K. So now, we need to retrain our model using the K-value which gave us the minimum RMSPE. \n",
    "    \n",
    "Finally, let’s evaluate our model by fitting it onto our testing set (players_testing). Using the predict() function, we make predictions on the test data and get a summary of how well our regression model did. Table 2.2 (below) tells us that our K-nn regression model resulted in an RMSPE value of $8130.85 (rounded to the nearest cent).</p>"
   ]
  },
  {
   "cell_type": "code",
   "execution_count": 18,
   "id": "92c26593-e946-4298-82c3-707e41718e46",
   "metadata": {},
   "outputs": [],
   "source": [
    "# retraining model on training set with best\n",
    "players_spec_best<-nearest_neighbor(weight_func = \"rectangular\", neighbors = 2)|>\n",
    "    set_engine(\"kknn\")|>\n",
    "    set_mode(\"regression\")\n",
    "\n",
    "players_fit_best<-workflow()|>\n",
    "    add_recipe(players_recipe)|>\n",
    "    add_model(players_spec_best)|>\n",
    "    fit(data = players_training)\n",
    "\n",
    "# making predictions on testing data\n",
    "players_summary<-players_fit_best|>\n",
    "    predict(players_testing)|>\n",
    "    bind_cols(players_testing)|>\n",
    "    metrics(truth = prize_money, estimate = .pred)\n",
    "\n",
    "# rmspe for testing set \n",
    "rmspe_testing<-players_summary|>\n",
    "    filter(.metric == \"rmse\")|>\n",
    "    select(.estimate)|>\n",
    "    pull()"
   ]
  },
  {
   "cell_type": "code",
   "execution_count": 19,
   "id": "024fdbf8-9964-477f-a240-b191345ccd0f",
   "metadata": {},
   "outputs": [
    {
     "data": {
      "text/html": [
       "<table class=\"dataframe\">\n",
       "<caption>A tibble: 3 × 3</caption>\n",
       "<thead>\n",
       "\t<tr><th scope=col>.metric</th><th scope=col>.estimator</th><th scope=col>.estimate</th></tr>\n",
       "\t<tr><th scope=col>&lt;chr&gt;</th><th scope=col>&lt;chr&gt;</th><th scope=col>&lt;dbl&gt;</th></tr>\n",
       "</thead>\n",
       "<tbody>\n",
       "\t<tr><td>rmse</td><td>standard</td><td>8130.8469042</td></tr>\n",
       "\t<tr><td>rsq </td><td>standard</td><td>   0.9570247</td></tr>\n",
       "\t<tr><td>mae </td><td>standard</td><td>2959.2685625</td></tr>\n",
       "</tbody>\n",
       "</table>\n"
      ],
      "text/latex": [
       "A tibble: 3 × 3\n",
       "\\begin{tabular}{lll}\n",
       " .metric & .estimator & .estimate\\\\\n",
       " <chr> & <chr> & <dbl>\\\\\n",
       "\\hline\n",
       "\t rmse & standard & 8130.8469042\\\\\n",
       "\t rsq  & standard &    0.9570247\\\\\n",
       "\t mae  & standard & 2959.2685625\\\\\n",
       "\\end{tabular}\n"
      ],
      "text/markdown": [
       "\n",
       "A tibble: 3 × 3\n",
       "\n",
       "| .metric &lt;chr&gt; | .estimator &lt;chr&gt; | .estimate &lt;dbl&gt; |\n",
       "|---|---|---|\n",
       "| rmse | standard | 8130.8469042 |\n",
       "| rsq  | standard |    0.9570247 |\n",
       "| mae  | standard | 2959.2685625 |\n",
       "\n"
      ],
      "text/plain": [
       "  .metric .estimator .estimate   \n",
       "1 rmse    standard   8130.8469042\n",
       "2 rsq     standard      0.9570247\n",
       "3 mae     standard   2959.2685625"
      ]
     },
     "metadata": {},
     "output_type": "display_data"
    },
    {
     "data": {
      "text/html": [
       "8130.84690421147"
      ],
      "text/latex": [
       "8130.84690421147"
      ],
      "text/markdown": [
       "8130.84690421147"
      ],
      "text/plain": [
       "[1] 8130.847"
      ]
     },
     "metadata": {},
     "output_type": "display_data"
    }
   ],
   "source": [
    "players_summary\n",
    "rmspe_testing"
   ]
  },
  {
   "cell_type": "markdown",
   "id": "d98d5f8c-430d-462b-af0d-548352a9c913",
   "metadata": {},
   "source": [
    "**Table 2.2: Prediction on Testing Data**"
   ]
  },
  {
   "cell_type": "markdown",
   "id": "a779e579-ff9f-4753-8253-d4b330d2ff00",
   "metadata": {},
   "source": [
    "<h3>Now let’s perform linear regression to determine which model is the better fit for this prediction problem.</h3>  "
   ]
  },
  {
   "cell_type": "markdown",
   "id": "efea08aa-e0fc-4f7a-8142-ed6a67f0d8f0",
   "metadata": {},
   "source": [
    "<h2>Linear Regression Model</h2>\n",
    "<p>Using the results from performing linear regression, we will determine the RMSPE and compare it to the RMSPE from the k-nn regression model performed. The lowest RMSPE will tell us which model better fits our data for the relationship we are looking at and what we want to predict. Using the model that best fits our data, we can use a pro tennis player’s best ranking to predict how much prize money they could receive. We will be using simple linear regression for our model, as we are only using one predictor.\n",
    "</p>"
   ]
  },
  {
   "cell_type": "code",
   "execution_count": 20,
   "id": "bb648eab-b44b-42f8-97e6-2b1cafb4df5b",
   "metadata": {},
   "outputs": [
    {
     "data": {
      "text/html": [
       "<table class=\"dataframe\">\n",
       "<caption>A tibble: 155 × 2</caption>\n",
       "<thead>\n",
       "\t<tr><th scope=col>prize_money</th><th scope=col>best_rank</th></tr>\n",
       "\t<tr><th scope=col>&lt;dbl&gt;</th><th scope=col>&lt;int&gt;</th></tr>\n",
       "</thead>\n",
       "<tbody>\n",
       "\t<tr><td>3261.567</td><td>44</td></tr>\n",
       "\t<tr><td>6091.971</td><td>17</td></tr>\n",
       "\t<tr><td>1517.157</td><td>31</td></tr>\n",
       "\t<tr><td>⋮</td><td>⋮</td></tr>\n",
       "\t<tr><td> 1703.096</td><td>58</td></tr>\n",
       "\t<tr><td> 1048.314</td><td>74</td></tr>\n",
       "\t<tr><td>22132.368</td><td> 4</td></tr>\n",
       "</tbody>\n",
       "</table>\n"
      ],
      "text/latex": [
       "A tibble: 155 × 2\n",
       "\\begin{tabular}{ll}\n",
       " prize\\_money & best\\_rank\\\\\n",
       " <dbl> & <int>\\\\\n",
       "\\hline\n",
       "\t 3261.567 & 44\\\\\n",
       "\t 6091.971 & 17\\\\\n",
       "\t 1517.157 & 31\\\\\n",
       "\t ⋮ & ⋮\\\\\n",
       "\t  1703.096 & 58\\\\\n",
       "\t  1048.314 & 74\\\\\n",
       "\t 22132.368 &  4\\\\\n",
       "\\end{tabular}\n"
      ],
      "text/markdown": [
       "\n",
       "A tibble: 155 × 2\n",
       "\n",
       "| prize_money &lt;dbl&gt; | best_rank &lt;int&gt; |\n",
       "|---|---|\n",
       "| 3261.567 | 44 |\n",
       "| 6091.971 | 17 |\n",
       "| 1517.157 | 31 |\n",
       "| ⋮ | ⋮ |\n",
       "|  1703.096 | 58 |\n",
       "|  1048.314 | 74 |\n",
       "| 22132.368 |  4 |\n",
       "\n"
      ],
      "text/plain": [
       "    prize_money best_rank\n",
       "1   3261.567    44       \n",
       "2   6091.971    17       \n",
       "3   1517.157    31       \n",
       "⋮   ⋮           ⋮        \n",
       "153  1703.096   58       \n",
       "154  1048.314   74       \n",
       "155 22132.368    4       "
      ]
     },
     "metadata": {},
     "output_type": "display_data"
    }
   ],
   "source": [
    "players_tidy"
   ]
  },
  {
   "cell_type": "code",
   "execution_count": 21,
   "id": "fa3ca150-eb75-4d9f-baf8-3d718c0907b0",
   "metadata": {},
   "outputs": [
    {
     "data": {
      "text/html": [
       "<table class=\"dataframe\">\n",
       "<caption>A tibble: 115 × 2</caption>\n",
       "<thead>\n",
       "\t<tr><th scope=col>prize_money</th><th scope=col>best_rank</th></tr>\n",
       "\t<tr><th scope=col>&lt;dbl&gt;</th><th scope=col>&lt;int&gt;</th></tr>\n",
       "</thead>\n",
       "<tbody>\n",
       "\t<tr><td>1517.157</td><td>31</td></tr>\n",
       "\t<tr><td>1285.541</td><td>47</td></tr>\n",
       "\t<tr><td>1563.471</td><td>85</td></tr>\n",
       "\t<tr><td>⋮</td><td>⋮</td></tr>\n",
       "\t<tr><td>18879.855</td><td>3</td></tr>\n",
       "\t<tr><td> 8918.917</td><td>8</td></tr>\n",
       "\t<tr><td>22132.368</td><td>4</td></tr>\n",
       "</tbody>\n",
       "</table>\n"
      ],
      "text/latex": [
       "A tibble: 115 × 2\n",
       "\\begin{tabular}{ll}\n",
       " prize\\_money & best\\_rank\\\\\n",
       " <dbl> & <int>\\\\\n",
       "\\hline\n",
       "\t 1517.157 & 31\\\\\n",
       "\t 1285.541 & 47\\\\\n",
       "\t 1563.471 & 85\\\\\n",
       "\t ⋮ & ⋮\\\\\n",
       "\t 18879.855 & 3\\\\\n",
       "\t  8918.917 & 8\\\\\n",
       "\t 22132.368 & 4\\\\\n",
       "\\end{tabular}\n"
      ],
      "text/markdown": [
       "\n",
       "A tibble: 115 × 2\n",
       "\n",
       "| prize_money &lt;dbl&gt; | best_rank &lt;int&gt; |\n",
       "|---|---|\n",
       "| 1517.157 | 31 |\n",
       "| 1285.541 | 47 |\n",
       "| 1563.471 | 85 |\n",
       "| ⋮ | ⋮ |\n",
       "| 18879.855 | 3 |\n",
       "|  8918.917 | 8 |\n",
       "| 22132.368 | 4 |\n",
       "\n"
      ],
      "text/plain": [
       "    prize_money best_rank\n",
       "1   1517.157    31       \n",
       "2   1285.541    47       \n",
       "3   1563.471    85       \n",
       "⋮   ⋮           ⋮        \n",
       "113 18879.855   3        \n",
       "114  8918.917   8        \n",
       "115 22132.368   4        "
      ]
     },
     "metadata": {},
     "output_type": "display_data"
    },
    {
     "data": {
      "text/html": [
       "<table class=\"dataframe\">\n",
       "<caption>A tibble: 40 × 2</caption>\n",
       "<thead>\n",
       "\t<tr><th scope=col>prize_money</th><th scope=col>best_rank</th></tr>\n",
       "\t<tr><th scope=col>&lt;dbl&gt;</th><th scope=col>&lt;int&gt;</th></tr>\n",
       "</thead>\n",
       "<tbody>\n",
       "\t<tr><td> 3261.567</td><td>44</td></tr>\n",
       "\t<tr><td>25889.586</td><td> 3</td></tr>\n",
       "\t<tr><td> 2722.314</td><td>25</td></tr>\n",
       "\t<tr><td>⋮</td><td>⋮</td></tr>\n",
       "\t<tr><td>14773.644</td><td> 6</td></tr>\n",
       "\t<tr><td> 3304.117</td><td>29</td></tr>\n",
       "\t<tr><td> 1703.096</td><td>58</td></tr>\n",
       "</tbody>\n",
       "</table>\n"
      ],
      "text/latex": [
       "A tibble: 40 × 2\n",
       "\\begin{tabular}{ll}\n",
       " prize\\_money & best\\_rank\\\\\n",
       " <dbl> & <int>\\\\\n",
       "\\hline\n",
       "\t  3261.567 & 44\\\\\n",
       "\t 25889.586 &  3\\\\\n",
       "\t  2722.314 & 25\\\\\n",
       "\t ⋮ & ⋮\\\\\n",
       "\t 14773.644 &  6\\\\\n",
       "\t  3304.117 & 29\\\\\n",
       "\t  1703.096 & 58\\\\\n",
       "\\end{tabular}\n"
      ],
      "text/markdown": [
       "\n",
       "A tibble: 40 × 2\n",
       "\n",
       "| prize_money &lt;dbl&gt; | best_rank &lt;int&gt; |\n",
       "|---|---|\n",
       "|  3261.567 | 44 |\n",
       "| 25889.586 |  3 |\n",
       "|  2722.314 | 25 |\n",
       "| ⋮ | ⋮ |\n",
       "| 14773.644 |  6 |\n",
       "|  3304.117 | 29 |\n",
       "|  1703.096 | 58 |\n",
       "\n"
      ],
      "text/plain": [
       "   prize_money best_rank\n",
       "1   3261.567   44       \n",
       "2  25889.586    3       \n",
       "3   2722.314   25       \n",
       "⋮  ⋮           ⋮        \n",
       "38 14773.644    6       \n",
       "39  3304.117   29       \n",
       "40  1703.096   58       "
      ]
     },
     "metadata": {},
     "output_type": "display_data"
    }
   ],
   "source": [
    "# recalling split data for linear regression\n",
    "players_training\n",
    "players_testing"
   ]
  },
  {
   "cell_type": "code",
   "execution_count": 22,
   "id": "4f4dfe27-3441-439f-86e7-9c6f822e2511",
   "metadata": {},
   "outputs": [
    {
     "data": {
      "text/plain": [
       "Recipe\n",
       "\n",
       "Inputs:\n",
       "\n",
       "      role #variables\n",
       "   outcome          1\n",
       " predictor          1"
      ]
     },
     "metadata": {},
     "output_type": "display_data"
    }
   ],
   "source": [
    "# creating recipe and prepping model\n",
    "players_lm_spec<- linear_reg()|>\n",
    "    set_engine(\"lm\")|>\n",
    "    set_mode(\"regression\")\n",
    "\n",
    "players_lm_recipe<-recipe(prize_money ~ best_rank, data = players_training)\n",
    "\n",
    "players_lm_recipe\n"
   ]
  },
  {
   "cell_type": "code",
   "execution_count": 23,
   "id": "b923fae8-017b-423d-9d5d-6051e80e4e44",
   "metadata": {},
   "outputs": [
    {
     "data": {
      "text/plain": [
       "══ Workflow [trained] ══════════════════════════════════════════════════════════\n",
       "\u001b[3mPreprocessor:\u001b[23m Recipe\n",
       "\u001b[3mModel:\u001b[23m linear_reg()\n",
       "\n",
       "── Preprocessor ────────────────────────────────────────────────────────────────\n",
       "0 Recipe Steps\n",
       "\n",
       "── Model ───────────────────────────────────────────────────────────────────────\n",
       "\n",
       "Call:\n",
       "stats::lm(formula = ..y ~ ., data = data)\n",
       "\n",
       "Coefficients:\n",
       "(Intercept)    best_rank  \n",
       "    17950.4       -262.8  \n"
      ]
     },
     "metadata": {},
     "output_type": "display_data"
    }
   ],
   "source": [
    "# making lm workflow\n",
    "players_lm_fit<-workflow()|>\n",
    "    add_recipe(players_lm_recipe)|>\n",
    "    add_model(players_lm_spec)|>\n",
    "    fit(data = players_training)\n",
    "players_lm_fit"
   ]
  },
  {
   "cell_type": "code",
   "execution_count": 24,
   "id": "b5861cd8-e327-4b03-b3fc-74b28af8f72e",
   "metadata": {},
   "outputs": [
    {
     "data": {
      "text/html": [
       "<table class=\"dataframe\">\n",
       "<caption>A tibble: 115 × 3</caption>\n",
       "<thead>\n",
       "\t<tr><th scope=col>.pred</th><th scope=col>prize_money</th><th scope=col>best_rank</th></tr>\n",
       "\t<tr><th scope=col>&lt;dbl&gt;</th><th scope=col>&lt;dbl&gt;</th><th scope=col>&lt;int&gt;</th></tr>\n",
       "</thead>\n",
       "<tbody>\n",
       "\t<tr><td> 9803.136</td><td>1517.157</td><td>31</td></tr>\n",
       "\t<tr><td> 5598.096</td><td>1285.541</td><td>47</td></tr>\n",
       "\t<tr><td>-4388.874</td><td>1563.471</td><td>85</td></tr>\n",
       "\t<tr><td>⋮</td><td>⋮</td><td>⋮</td></tr>\n",
       "\t<tr><td>17161.96</td><td>18879.855</td><td>3</td></tr>\n",
       "\t<tr><td>15847.88</td><td> 8918.917</td><td>8</td></tr>\n",
       "\t<tr><td>16899.14</td><td>22132.368</td><td>4</td></tr>\n",
       "</tbody>\n",
       "</table>\n"
      ],
      "text/latex": [
       "A tibble: 115 × 3\n",
       "\\begin{tabular}{lll}\n",
       " .pred & prize\\_money & best\\_rank\\\\\n",
       " <dbl> & <dbl> & <int>\\\\\n",
       "\\hline\n",
       "\t  9803.136 & 1517.157 & 31\\\\\n",
       "\t  5598.096 & 1285.541 & 47\\\\\n",
       "\t -4388.874 & 1563.471 & 85\\\\\n",
       "\t ⋮ & ⋮ & ⋮\\\\\n",
       "\t 17161.96 & 18879.855 & 3\\\\\n",
       "\t 15847.88 &  8918.917 & 8\\\\\n",
       "\t 16899.14 & 22132.368 & 4\\\\\n",
       "\\end{tabular}\n"
      ],
      "text/markdown": [
       "\n",
       "A tibble: 115 × 3\n",
       "\n",
       "| .pred &lt;dbl&gt; | prize_money &lt;dbl&gt; | best_rank &lt;int&gt; |\n",
       "|---|---|---|\n",
       "|  9803.136 | 1517.157 | 31 |\n",
       "|  5598.096 | 1285.541 | 47 |\n",
       "| -4388.874 | 1563.471 | 85 |\n",
       "| ⋮ | ⋮ | ⋮ |\n",
       "| 17161.96 | 18879.855 | 3 |\n",
       "| 15847.88 |  8918.917 | 8 |\n",
       "| 16899.14 | 22132.368 | 4 |\n",
       "\n"
      ],
      "text/plain": [
       "    .pred     prize_money best_rank\n",
       "1    9803.136 1517.157    31       \n",
       "2    5598.096 1285.541    47       \n",
       "3   -4388.874 1563.471    85       \n",
       "⋮   ⋮         ⋮           ⋮        \n",
       "113 17161.96  18879.855   3        \n",
       "114 15847.88   8918.917   8        \n",
       "115 16899.14  22132.368   4        "
      ]
     },
     "metadata": {},
     "output_type": "display_data"
    }
   ],
   "source": [
    "# summarizing lm predictions\n",
    "players_lm_preds<- players_lm_fit|>\n",
    "    predict(players_training)|>\n",
    "    bind_cols(players_training)\n",
    "\n",
    "players_lm_preds"
   ]
  },
  {
   "cell_type": "code",
   "execution_count": 25,
   "id": "688ef2dc-d856-41f8-8637-8e73843cfc62",
   "metadata": {},
   "outputs": [
    {
     "data": {
      "text/html": [
       "15839.4047450195"
      ],
      "text/latex": [
       "15839.4047450195"
      ],
      "text/markdown": [
       "15839.4047450195"
      ],
      "text/plain": [
       "[1] 15839.4"
      ]
     },
     "metadata": {},
     "output_type": "display_data"
    }
   ],
   "source": [
    "# calculating training rmse\n",
    "players_lm_rmse<-players_lm_fit|>\n",
    "    predict(players_training)|>\n",
    "    bind_cols(players_training)|>\n",
    "    metrics(truth = prize_money, estimate = .pred)|>\n",
    "    filter(.metric == \"rmse\")|>\n",
    "    select(.estimate)|>\n",
    "    pull()\n",
    "players_lm_rmse"
   ]
  },
  {
   "cell_type": "code",
   "execution_count": 26,
   "id": "bdc3e211-10ec-456a-b584-fd59554cc5c3",
   "metadata": {},
   "outputs": [
    {
     "data": {
      "text/html": [
       "<table class=\"dataframe\">\n",
       "<caption>A tibble: 3 × 3</caption>\n",
       "<thead>\n",
       "\t<tr><th scope=col>.metric</th><th scope=col>.estimator</th><th scope=col>.estimate</th></tr>\n",
       "\t<tr><th scope=col>&lt;chr&gt;</th><th scope=col>&lt;chr&gt;</th><th scope=col>&lt;dbl&gt;</th></tr>\n",
       "</thead>\n",
       "<tbody>\n",
       "\t<tr><td>rmse</td><td>standard</td><td>1.981950e+04</td></tr>\n",
       "\t<tr><td>rsq </td><td>standard</td><td>1.864187e-01</td></tr>\n",
       "\t<tr><td>mae </td><td>standard</td><td>7.254587e+03</td></tr>\n",
       "</tbody>\n",
       "</table>\n"
      ],
      "text/latex": [
       "A tibble: 3 × 3\n",
       "\\begin{tabular}{lll}\n",
       " .metric & .estimator & .estimate\\\\\n",
       " <chr> & <chr> & <dbl>\\\\\n",
       "\\hline\n",
       "\t rmse & standard & 1.981950e+04\\\\\n",
       "\t rsq  & standard & 1.864187e-01\\\\\n",
       "\t mae  & standard & 7.254587e+03\\\\\n",
       "\\end{tabular}\n"
      ],
      "text/markdown": [
       "\n",
       "A tibble: 3 × 3\n",
       "\n",
       "| .metric &lt;chr&gt; | .estimator &lt;chr&gt; | .estimate &lt;dbl&gt; |\n",
       "|---|---|---|\n",
       "| rmse | standard | 1.981950e+04 |\n",
       "| rsq  | standard | 1.864187e-01 |\n",
       "| mae  | standard | 7.254587e+03 |\n",
       "\n"
      ],
      "text/plain": [
       "  .metric .estimator .estimate   \n",
       "1 rmse    standard   1.981950e+04\n",
       "2 rsq     standard   1.864187e-01\n",
       "3 mae     standard   7.254587e+03"
      ]
     },
     "metadata": {},
     "output_type": "display_data"
    }
   ],
   "source": [
    "# summarizing testing predictions \n",
    "players_lm_summary<-players_lm_fit|>\n",
    "    predict(players_testing)|>\n",
    "    bind_cols(players_testing)|>\n",
    "    metrics(truth = prize_money, estimate = .pred)\n",
    "players_lm_summary"
   ]
  },
  {
   "cell_type": "code",
   "execution_count": 27,
   "id": "ea744f21-98ee-45f8-8af9-a7757f4a389f",
   "metadata": {},
   "outputs": [
    {
     "data": {
      "text/html": [
       "19819.5000261503"
      ],
      "text/latex": [
       "19819.5000261503"
      ],
      "text/markdown": [
       "19819.5000261503"
      ],
      "text/plain": [
       "[1] 19819.5"
      ]
     },
     "metadata": {},
     "output_type": "display_data"
    }
   ],
   "source": [
    "# calculating testing rmspe \n",
    "players_lm_rmspe<-players_lm_summary|>\n",
    "    filter(.metric == \"rmse\")|>\n",
    "    select(.estimate)|>\n",
    "    pull()\n",
    "players_lm_rmspe"
   ]
  },
  {
   "cell_type": "markdown",
   "id": "21478dde-7738-44d8-b1a9-e2fe253bf316",
   "metadata": {},
   "source": [
    "<h2>Conclusion</h2>"
   ]
  },
  {
   "cell_type": "markdown",
   "id": "b7de4ae3-44df-48bf-8205-03640738efd3",
   "metadata": {},
   "source": [
    "<p>After performing the two regression models, we can conclude that K-nn regression is more suitable in predicting how much prize money a pro tennis player can earn given their best rank number.</p>\n",
    "\n",
    "**Linear Regression RMSPE is 19819.50**\n",
    "\n",
    "**K-NN Rgegression RMSPE is 8130.85** \n",
    "  \n",
    "**Therefore, for this data, the KNN model works better (results in a smaller error).**\n",
    "\n",
    "This coincides with our expectations because our initial exploration (Figure 1) shows an exponential relationship, not a straight line, between the prize money earned by a player and their best rank. Our external references suggest that the amount of prize money given to the players depends mainly on their rank. Players with very high ranks are paid very rewardingly, whereas those who aren’t able to get much out of their careers are paid much less.\n",
    "</p>"
   ]
  },
  {
   "cell_type": "code",
   "execution_count": null,
   "id": "34363065-2d76-4445-9044-f8576b13d769",
   "metadata": {},
   "outputs": [
    {
     "ename": "ERROR",
     "evalue": "Error in eval(expr, envir, enclos): object 'players_knn_preds' not found\n",
     "output_type": "error",
     "traceback": [
      "Error in eval(expr, envir, enclos): object 'players_knn_preds' not found\nTraceback:\n"
     ]
    }
   ],
   "source": [
    "players_knn_preds\n",
    "players_lm_preds"
   ]
  },
  {
   "cell_type": "markdown",
   "id": "11083fd5-3e86-45b0-8147-dc980d2f0e94",
   "metadata": {},
   "source": [
    " "
   ]
  },
  {
   "cell_type": "code",
   "execution_count": null,
   "id": "6bc386fd-6f75-4c37-8c7c-0235e41bb484",
   "metadata": {},
   "outputs": [
    {
     "ename": "ERROR",
     "evalue": "Error in ggplot(data = players_knn_preds, aes(x = best_rank, y = prize_money)): object 'players_knn_preds' not found\n",
     "output_type": "error",
     "traceback": [
      "Error in ggplot(data = players_knn_preds, aes(x = best_rank, y = prize_money)): object 'players_knn_preds' not found\nTraceback:\n",
      "1. ggplot(data = players_knn_preds, aes(x = best_rank, y = prize_money))"
     ]
    }
   ],
   "source": [
    "# overlaying plots of KNN and linear regression predictions onto true training sets.\n",
    "options(repr.plot.width = 12, repr.plot.height = 8)\n",
    "\n",
    "knn_vs_linear_plot<-ggplot(data = players_knn_preds, aes(x = best_rank, y = prize_money))+\n",
    "    geom_point()+\n",
    "    labs(x = \"Best Rank Achieved\", y = \"Total Prize Money\")+\n",
    "    ylim(0,30000)+\n",
    "    xlim(0,125)+\n",
    "    geom_line(data = players_knn_preds, aes(x = best_rank, y = .pred, colour = \"KNN Model\"))+\n",
    "    geom_line(data = players_lm_preds, aes(x = best_rank, y = .pred, colour = \"Linear Model\"))+\n",
    "    labs(colour = \"Type of Regression Model\")+\n",
    "    ggtitle(\"Comparison of Linear Vs KNN Regression Models\")+\n",
    "    theme(text = element_text(size = 20))\n",
    "knn_vs_linear_plot\n",
    "\n"
   ]
  },
  {
   "cell_type": "markdown",
   "id": "688ab794-ac8d-4143-88c3-c7685f146cee",
   "metadata": {},
   "source": [
    "Figure 3"
   ]
  },
  {
   "cell_type": "markdown",
   "id": "52c7933d-2d87-4490-a2e8-77d16375bbf7",
   "metadata": {},
   "source": [
    "<h2>Moving Forward</h2>\n",
    "<p>In the future, we could explore different factors which may affect a player’s earnings. One possible factor could be how popular and likable a player is with the fans of the sport. One would assume that the greater a player’s fanbase is, the more profitable a player’s brand is through sponsorship and merchandising opportunities. It would be interesting to compare a player's holistic earnings to see which factor: a player's ranking and skill, or a player's fanbase, has greater influence on their earnings.</p>"
   ]
  },
  {
   "cell_type": "markdown",
   "id": "7922a65e-9965-46eb-bd90-3da0a16cb525",
   "metadata": {},
   "source": [
    "<h2>Citations</h2>\n",
    "<p>Hadlich, Gui. “How Does Prize Money Work in Tennis?” My Tennis HQ, 28 Mar. 2020, https://mytennishq.com/how-does-prize-money-work-in-tennis/. \n",
    "    \n",
    "Hadlich, Gui. “How Much Do Tennis Players Make? - the Ugly Truth.” My Tennis HQ, 30 May 2020, https://mytennishq.com/how-much-do-tennis-players-make-the-ugly-truth/. \n",
    "    \n",
    "Timbers, Tiffany, et al. “Chapter 7 Regression I: K-Nearest Neighbors: Data Science.” Data Science: A First Introduction, 24 Sept. 2022, https://datasciencebook.ca/regression1.html. \n",
    "Ultimate Tennis Statistics, https://www.ultimatetennisstatistics.com/. \n",
    "</p>"
   ]
  }
 ],
 "metadata": {
  "kernelspec": {
   "display_name": "R",
   "language": "R",
   "name": "ir"
  },
  "language_info": {
   "codemirror_mode": "r",
   "file_extension": ".r",
   "mimetype": "text/x-r-source",
   "name": "R",
   "pygments_lexer": "r",
   "version": "4.1.3"
  }
 },
 "nbformat": 4,
 "nbformat_minor": 5
}
