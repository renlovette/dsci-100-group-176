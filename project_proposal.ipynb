{
 "cells": [
  {
   "cell_type": "markdown",
   "id": "e8b71fb8-ef53-4585-abed-1a088a09bca7",
   "metadata": {},
   "source": [
    "<h1> Project Proposal </h1>"
   ]
  },
  {
   "cell_type": "code",
   "execution_count": null,
   "id": "403aa8c4-df7e-4993-8f05-46a90da48abe",
   "metadata": {},
   "outputs": [],
   "source": [
    "Testing"
   ]
  }
 ],
 "metadata": {
  "kernelspec": {
   "display_name": "R",
   "language": "R",
   "name": "ir"
  },
  "language_info": {
   "codemirror_mode": "r",
   "file_extension": ".r",
   "mimetype": "text/x-r-source",
   "name": "R",
   "pygments_lexer": "r",
   "version": "4.1.3"
  }
 },
 "nbformat": 4,
 "nbformat_minor": 5
}
