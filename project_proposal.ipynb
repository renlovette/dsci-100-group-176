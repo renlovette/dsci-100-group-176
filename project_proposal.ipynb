{
 "cells": [
  {
   "cell_type": "markdown",
   "id": "e8b71fb8-ef53-4585-abed-1a088a09bca7",
   "metadata": {},
   "source": [
    "<h1> Project Proposal </h1>"
   ]
  },
  {
   "cell_type": "code",
   "execution_count": 1,
   "id": "403aa8c4-df7e-4993-8f05-46a90da48abe",
   "metadata": {},
   "outputs": [
    {
     "name": "stderr",
     "output_type": "stream",
     "text": [
      "── \u001b[1mAttaching packages\u001b[22m ─────────────────────────────────────── tidyverse 1.3.1 ──\n",
      "\n",
      "\u001b[32m✔\u001b[39m \u001b[34mggplot2\u001b[39m 3.3.6     \u001b[32m✔\u001b[39m \u001b[34mpurrr  \u001b[39m 0.3.4\n",
      "\u001b[32m✔\u001b[39m \u001b[34mtibble \u001b[39m 3.1.7     \u001b[32m✔\u001b[39m \u001b[34mdplyr  \u001b[39m 1.0.9\n",
      "\u001b[32m✔\u001b[39m \u001b[34mtidyr  \u001b[39m 1.2.0     \u001b[32m✔\u001b[39m \u001b[34mstringr\u001b[39m 1.4.0\n",
      "\u001b[32m✔\u001b[39m \u001b[34mreadr  \u001b[39m 2.1.2     \u001b[32m✔\u001b[39m \u001b[34mforcats\u001b[39m 0.5.1\n",
      "\n",
      "── \u001b[1mConflicts\u001b[22m ────────────────────────────────────────── tidyverse_conflicts() ──\n",
      "\u001b[31m✖\u001b[39m \u001b[34mdplyr\u001b[39m::\u001b[32mfilter()\u001b[39m masks \u001b[34mstats\u001b[39m::filter()\n",
      "\u001b[31m✖\u001b[39m \u001b[34mdplyr\u001b[39m::\u001b[32mlag()\u001b[39m    masks \u001b[34mstats\u001b[39m::lag()\n",
      "\n",
      "── \u001b[1mAttaching packages\u001b[22m ────────────────────────────────────── tidymodels 1.0.0 ──\n",
      "\n",
      "\u001b[32m✔\u001b[39m \u001b[34mbroom       \u001b[39m 1.0.0     \u001b[32m✔\u001b[39m \u001b[34mrsample     \u001b[39m 1.0.0\n",
      "\u001b[32m✔\u001b[39m \u001b[34mdials       \u001b[39m 1.0.0     \u001b[32m✔\u001b[39m \u001b[34mtune        \u001b[39m 1.0.0\n",
      "\u001b[32m✔\u001b[39m \u001b[34minfer       \u001b[39m 1.0.2     \u001b[32m✔\u001b[39m \u001b[34mworkflows   \u001b[39m 1.0.0\n",
      "\u001b[32m✔\u001b[39m \u001b[34mmodeldata   \u001b[39m 1.0.0     \u001b[32m✔\u001b[39m \u001b[34mworkflowsets\u001b[39m 1.0.0\n",
      "\u001b[32m✔\u001b[39m \u001b[34mparsnip     \u001b[39m 1.0.0     \u001b[32m✔\u001b[39m \u001b[34myardstick   \u001b[39m 1.0.0\n",
      "\u001b[32m✔\u001b[39m \u001b[34mrecipes     \u001b[39m 1.0.1     \n",
      "\n",
      "── \u001b[1mConflicts\u001b[22m ───────────────────────────────────────── tidymodels_conflicts() ──\n",
      "\u001b[31m✖\u001b[39m \u001b[34mscales\u001b[39m::\u001b[32mdiscard()\u001b[39m masks \u001b[34mpurrr\u001b[39m::discard()\n",
      "\u001b[31m✖\u001b[39m \u001b[34mdplyr\u001b[39m::\u001b[32mfilter()\u001b[39m   masks \u001b[34mstats\u001b[39m::filter()\n",
      "\u001b[31m✖\u001b[39m \u001b[34mrecipes\u001b[39m::\u001b[32mfixed()\u001b[39m  masks \u001b[34mstringr\u001b[39m::fixed()\n",
      "\u001b[31m✖\u001b[39m \u001b[34mdplyr\u001b[39m::\u001b[32mlag()\u001b[39m      masks \u001b[34mstats\u001b[39m::lag()\n",
      "\u001b[31m✖\u001b[39m \u001b[34myardstick\u001b[39m::\u001b[32mspec()\u001b[39m masks \u001b[34mreadr\u001b[39m::spec()\n",
      "\u001b[31m✖\u001b[39m \u001b[34mrecipes\u001b[39m::\u001b[32mstep()\u001b[39m   masks \u001b[34mstats\u001b[39m::step()\n",
      "\u001b[34m•\u001b[39m Search for functions across packages at \u001b[32mhttps://www.tidymodels.org/find/\u001b[39m\n",
      "\n"
     ]
    }
   ],
   "source": [
    "library(tidyverse)\n",
    "library(repr)\n",
    "library(tidymodels)\n",
    "options(repr.matrix.max.rows = 6)\n",
    "#source(\"tests.R\")\n",
    "#source(\"cleanup.R\")"
   ]
  },
  {
   "cell_type": "code",
   "execution_count": 2,
   "id": "16298cc0-f6d4-4db2-9c0d-deaeba396836",
   "metadata": {},
   "outputs": [
    {
     "name": "stderr",
     "output_type": "stream",
     "text": [
      "\u001b[1m\u001b[22mNew names:\n",
      "\u001b[36m•\u001b[39m `` -> `...1`\n",
      "\u001b[1mRows: \u001b[22m\u001b[34m500\u001b[39m \u001b[1mColumns: \u001b[22m\u001b[34m38\u001b[39m\n",
      "\u001b[36m──\u001b[39m \u001b[1mColumn specification\u001b[22m \u001b[36m────────────────────────────────────────────────────────\u001b[39m\n",
      "\u001b[1mDelimiter:\u001b[22m \",\"\n",
      "\u001b[31mchr\u001b[39m (25): Age, Country, Plays, Wikipedia, Current Rank, Best Rank, Name, Bac...\n",
      "\u001b[32mdbl\u001b[39m (13): ...1, Turned Pro, Seasons, Titles, Best Season, Retired, Masters, ...\n",
      "\n",
      "\u001b[36mℹ\u001b[39m Use `spec()` to retrieve the full column specification for this data.\n",
      "\u001b[36mℹ\u001b[39m Specify the column types or set `show_col_types = FALSE` to quiet this message.\n"
     ]
    },
    {
     "data": {
      "text/html": [
       "<table class=\"dataframe\">\n",
       "<caption>A spec_tbl_df: 500 × 38</caption>\n",
       "<thead>\n",
       "\t<tr><th scope=col>...1</th><th scope=col>Age</th><th scope=col>Country</th><th scope=col>Plays</th><th scope=col>Wikipedia</th><th scope=col>Current Rank</th><th scope=col>Best Rank</th><th scope=col>Name</th><th scope=col>Backhand</th><th scope=col>Prize Money</th><th scope=col>⋯</th><th scope=col>Facebook</th><th scope=col>Twitter</th><th scope=col>Nicknames</th><th scope=col>Grand Slams</th><th scope=col>Davis Cups</th><th scope=col>Web Site</th><th scope=col>Team Cups</th><th scope=col>Olympics</th><th scope=col>Weeks at No. 1</th><th scope=col>Tour Finals</th></tr>\n",
       "\t<tr><th scope=col>&lt;dbl&gt;</th><th scope=col>&lt;chr&gt;</th><th scope=col>&lt;chr&gt;</th><th scope=col>&lt;chr&gt;</th><th scope=col>&lt;chr&gt;</th><th scope=col>&lt;chr&gt;</th><th scope=col>&lt;chr&gt;</th><th scope=col>&lt;chr&gt;</th><th scope=col>&lt;chr&gt;</th><th scope=col>&lt;chr&gt;</th><th scope=col>⋯</th><th scope=col>&lt;chr&gt;</th><th scope=col>&lt;chr&gt;</th><th scope=col>&lt;chr&gt;</th><th scope=col>&lt;dbl&gt;</th><th scope=col>&lt;dbl&gt;</th><th scope=col>&lt;chr&gt;</th><th scope=col>&lt;dbl&gt;</th><th scope=col>&lt;dbl&gt;</th><th scope=col>&lt;dbl&gt;</th><th scope=col>&lt;dbl&gt;</th></tr>\n",
       "</thead>\n",
       "<tbody>\n",
       "\t<tr><td>0</td><td>26 (25-04-1993)</td><td>Brazil        </td><td>Right-handed</td><td>Wikipedia</td><td>378 (97) </td><td>363 (04-11-2019)</td><td>Oscar Jose Gutierrez</td><td>NA        </td><td>NA          </td><td>⋯</td><td>NA</td><td>NA</td><td>NA</td><td>NA</td><td>NA</td><td>NA</td><td>NA</td><td>NA</td><td>NA</td><td>NA</td></tr>\n",
       "\t<tr><td>1</td><td>18 (22-12-2001)</td><td>United Kingdom</td><td>Left-handed </td><td>Wikipedia</td><td>326 (119)</td><td>316 (14-10-2019)</td><td>Jack Draper         </td><td>Two-handed</td><td>$59,040     </td><td>⋯</td><td>NA</td><td>NA</td><td>NA</td><td>NA</td><td>NA</td><td>NA</td><td>NA</td><td>NA</td><td>NA</td><td>NA</td></tr>\n",
       "\t<tr><td>2</td><td>32 (03-11-1987)</td><td>Slovakia      </td><td>Right-handed</td><td>Wikipedia</td><td>178 (280)</td><td>44 (14-01-2013) </td><td>Lukas Lacko         </td><td>Two-handed</td><td>US$3,261,567</td><td>⋯</td><td>NA</td><td>NA</td><td>NA</td><td>NA</td><td>NA</td><td>NA</td><td>NA</td><td>NA</td><td>NA</td><td>NA</td></tr>\n",
       "\t<tr><td>⋮</td><td>⋮</td><td>⋮</td><td>⋮</td><td>⋮</td><td>⋮</td><td>⋮</td><td>⋮</td><td>⋮</td><td>⋮</td><td>⋱</td><td>⋮</td><td>⋮</td><td>⋮</td><td>⋮</td><td>⋮</td><td>⋮</td><td>⋮</td><td>⋮</td><td>⋮</td><td>⋮</td></tr>\n",
       "\t<tr><td>497</td><td>23 (14-03-1996)</td><td>Netherlands</td><td>Left-handed</td><td>Wikipedia</td><td>495 (60)</td><td>342 (05-08-2019)</td><td>Gijs Brouwer   </td><td>NA        </td><td>NA     </td><td>⋯</td><td>NA</td><td>NA</td><td>NA</td><td>NA</td><td>NA</td><td>NA</td><td>NA</td><td>NA</td><td>NA</td><td>NA</td></tr>\n",
       "\t<tr><td>498</td><td>24 (17-05-1995)</td><td>Ukraine    </td><td>NA         </td><td>Wikipedia</td><td>419 (81)</td><td>419 (20-01-2020)</td><td>Vladyslav Orlov</td><td>NA        </td><td>NA     </td><td>⋯</td><td>NA</td><td>NA</td><td>NA</td><td>NA</td><td>NA</td><td>NA</td><td>NA</td><td>NA</td><td>NA</td><td>NA</td></tr>\n",
       "\t<tr><td>499</td><td>22 (26-03-1997)</td><td>Tunisia    </td><td>Left-handed</td><td>Wikipedia</td><td>451 (69)</td><td>408 (24-12-2018)</td><td>Aziz Dougaz    </td><td>Two-handed</td><td>$61,984</td><td>⋯</td><td>NA</td><td>NA</td><td>NA</td><td>NA</td><td>NA</td><td>NA</td><td>NA</td><td>NA</td><td>NA</td><td>NA</td></tr>\n",
       "</tbody>\n",
       "</table>\n"
      ],
      "text/latex": [
       "A spec\\_tbl\\_df: 500 × 38\n",
       "\\begin{tabular}{lllllllllllllllllllll}\n",
       " ...1 & Age & Country & Plays & Wikipedia & Current Rank & Best Rank & Name & Backhand & Prize Money & ⋯ & Facebook & Twitter & Nicknames & Grand Slams & Davis Cups & Web Site & Team Cups & Olympics & Weeks at No. 1 & Tour Finals\\\\\n",
       " <dbl> & <chr> & <chr> & <chr> & <chr> & <chr> & <chr> & <chr> & <chr> & <chr> & ⋯ & <chr> & <chr> & <chr> & <dbl> & <dbl> & <chr> & <dbl> & <dbl> & <dbl> & <dbl>\\\\\n",
       "\\hline\n",
       "\t 0 & 26 (25-04-1993) & Brazil         & Right-handed & Wikipedia & 378 (97)  & 363 (04-11-2019) & Oscar Jose Gutierrez & NA         & NA           & ⋯ & NA & NA & NA & NA & NA & NA & NA & NA & NA & NA\\\\\n",
       "\t 1 & 18 (22-12-2001) & United Kingdom & Left-handed  & Wikipedia & 326 (119) & 316 (14-10-2019) & Jack Draper          & Two-handed & \\$59,040      & ⋯ & NA & NA & NA & NA & NA & NA & NA & NA & NA & NA\\\\\n",
       "\t 2 & 32 (03-11-1987) & Slovakia       & Right-handed & Wikipedia & 178 (280) & 44 (14-01-2013)  & Lukas Lacko          & Two-handed & US\\$3,261,567 & ⋯ & NA & NA & NA & NA & NA & NA & NA & NA & NA & NA\\\\\n",
       "\t ⋮ & ⋮ & ⋮ & ⋮ & ⋮ & ⋮ & ⋮ & ⋮ & ⋮ & ⋮ & ⋱ & ⋮ & ⋮ & ⋮ & ⋮ & ⋮ & ⋮ & ⋮ & ⋮ & ⋮ & ⋮\\\\\n",
       "\t 497 & 23 (14-03-1996) & Netherlands & Left-handed & Wikipedia & 495 (60) & 342 (05-08-2019) & Gijs Brouwer    & NA         & NA      & ⋯ & NA & NA & NA & NA & NA & NA & NA & NA & NA & NA\\\\\n",
       "\t 498 & 24 (17-05-1995) & Ukraine     & NA          & Wikipedia & 419 (81) & 419 (20-01-2020) & Vladyslav Orlov & NA         & NA      & ⋯ & NA & NA & NA & NA & NA & NA & NA & NA & NA & NA\\\\\n",
       "\t 499 & 22 (26-03-1997) & Tunisia     & Left-handed & Wikipedia & 451 (69) & 408 (24-12-2018) & Aziz Dougaz     & Two-handed & \\$61,984 & ⋯ & NA & NA & NA & NA & NA & NA & NA & NA & NA & NA\\\\\n",
       "\\end{tabular}\n"
      ],
      "text/markdown": [
       "\n",
       "A spec_tbl_df: 500 × 38\n",
       "\n",
       "| ...1 &lt;dbl&gt; | Age &lt;chr&gt; | Country &lt;chr&gt; | Plays &lt;chr&gt; | Wikipedia &lt;chr&gt; | Current Rank &lt;chr&gt; | Best Rank &lt;chr&gt; | Name &lt;chr&gt; | Backhand &lt;chr&gt; | Prize Money &lt;chr&gt; | ⋯ ⋯ | Facebook &lt;chr&gt; | Twitter &lt;chr&gt; | Nicknames &lt;chr&gt; | Grand Slams &lt;dbl&gt; | Davis Cups &lt;dbl&gt; | Web Site &lt;chr&gt; | Team Cups &lt;dbl&gt; | Olympics &lt;dbl&gt; | Weeks at No. 1 &lt;dbl&gt; | Tour Finals &lt;dbl&gt; |\n",
       "|---|---|---|---|---|---|---|---|---|---|---|---|---|---|---|---|---|---|---|---|---|\n",
       "| 0 | 26 (25-04-1993) | Brazil         | Right-handed | Wikipedia | 378 (97)  | 363 (04-11-2019) | Oscar Jose Gutierrez | NA         | NA           | ⋯ | NA | NA | NA | NA | NA | NA | NA | NA | NA | NA |\n",
       "| 1 | 18 (22-12-2001) | United Kingdom | Left-handed  | Wikipedia | 326 (119) | 316 (14-10-2019) | Jack Draper          | Two-handed | $59,040      | ⋯ | NA | NA | NA | NA | NA | NA | NA | NA | NA | NA |\n",
       "| 2 | 32 (03-11-1987) | Slovakia       | Right-handed | Wikipedia | 178 (280) | 44 (14-01-2013)  | Lukas Lacko          | Two-handed | US$3,261,567 | ⋯ | NA | NA | NA | NA | NA | NA | NA | NA | NA | NA |\n",
       "| ⋮ | ⋮ | ⋮ | ⋮ | ⋮ | ⋮ | ⋮ | ⋮ | ⋮ | ⋮ | ⋱ | ⋮ | ⋮ | ⋮ | ⋮ | ⋮ | ⋮ | ⋮ | ⋮ | ⋮ | ⋮ |\n",
       "| 497 | 23 (14-03-1996) | Netherlands | Left-handed | Wikipedia | 495 (60) | 342 (05-08-2019) | Gijs Brouwer    | NA         | NA      | ⋯ | NA | NA | NA | NA | NA | NA | NA | NA | NA | NA |\n",
       "| 498 | 24 (17-05-1995) | Ukraine     | NA          | Wikipedia | 419 (81) | 419 (20-01-2020) | Vladyslav Orlov | NA         | NA      | ⋯ | NA | NA | NA | NA | NA | NA | NA | NA | NA | NA |\n",
       "| 499 | 22 (26-03-1997) | Tunisia     | Left-handed | Wikipedia | 451 (69) | 408 (24-12-2018) | Aziz Dougaz     | Two-handed | $61,984 | ⋯ | NA | NA | NA | NA | NA | NA | NA | NA | NA | NA |\n",
       "\n"
      ],
      "text/plain": [
       "    ...1 Age             Country        Plays        Wikipedia Current Rank\n",
       "1   0    26 (25-04-1993) Brazil         Right-handed Wikipedia 378 (97)    \n",
       "2   1    18 (22-12-2001) United Kingdom Left-handed  Wikipedia 326 (119)   \n",
       "3   2    32 (03-11-1987) Slovakia       Right-handed Wikipedia 178 (280)   \n",
       "⋮   ⋮    ⋮               ⋮              ⋮            ⋮         ⋮           \n",
       "498 497  23 (14-03-1996) Netherlands    Left-handed  Wikipedia 495 (60)    \n",
       "499 498  24 (17-05-1995) Ukraine        NA           Wikipedia 419 (81)    \n",
       "500 499  22 (26-03-1997) Tunisia        Left-handed  Wikipedia 451 (69)    \n",
       "    Best Rank        Name                 Backhand   Prize Money  ⋯ Facebook\n",
       "1   363 (04-11-2019) Oscar Jose Gutierrez NA         NA           ⋯ NA      \n",
       "2   316 (14-10-2019) Jack Draper          Two-handed $59,040      ⋯ NA      \n",
       "3   44 (14-01-2013)  Lukas Lacko          Two-handed US$3,261,567 ⋯ NA      \n",
       "⋮   ⋮                ⋮                    ⋮          ⋮            ⋱ ⋮       \n",
       "498 342 (05-08-2019) Gijs Brouwer         NA         NA           ⋯ NA      \n",
       "499 419 (20-01-2020) Vladyslav Orlov      NA         NA           ⋯ NA      \n",
       "500 408 (24-12-2018) Aziz Dougaz          Two-handed $61,984      ⋯ NA      \n",
       "    Twitter Nicknames Grand Slams Davis Cups Web Site Team Cups Olympics\n",
       "1   NA      NA        NA          NA         NA       NA        NA      \n",
       "2   NA      NA        NA          NA         NA       NA        NA      \n",
       "3   NA      NA        NA          NA         NA       NA        NA      \n",
       "⋮   ⋮       ⋮         ⋮           ⋮          ⋮        ⋮         ⋮       \n",
       "498 NA      NA        NA          NA         NA       NA        NA      \n",
       "499 NA      NA        NA          NA         NA       NA        NA      \n",
       "500 NA      NA        NA          NA         NA       NA        NA      \n",
       "    Weeks at No. 1 Tour Finals\n",
       "1   NA             NA         \n",
       "2   NA             NA         \n",
       "3   NA             NA         \n",
       "⋮   ⋮              ⋮          \n",
       "498 NA             NA         \n",
       "499 NA             NA         \n",
       "500 NA             NA         "
      ]
     },
     "metadata": {},
     "output_type": "display_data"
    }
   ],
   "source": [
    "player_stats<-read_delim(\"player_stats.csv\")\n",
    "player_stats"
   ]
  },
  {
   "cell_type": "code",
   "execution_count": 3,
   "id": "0c218378-14a9-4224-9bd2-ab7bf1481e7f",
   "metadata": {},
   "outputs": [
    {
     "name": "stderr",
     "output_type": "stream",
     "text": [
      "Warning message:\n",
      "“Expected 4 pieces. Additional pieces discarded in 499 rows [1, 2, 3, 4, 5, 6, 7, 8, 9, 10, 11, 12, 13, 14, 15, 16, 17, 18, 19, 20, ...].”\n",
      "Warning message:\n",
      "“Expected 4 pieces. Additional pieces discarded in 499 rows [1, 2, 3, 4, 5, 6, 7, 8, 9, 10, 11, 12, 13, 14, 15, 16, 17, 18, 19, 20, ...].”\n"
     ]
    },
    {
     "data": {
      "text/html": [
       "<table class=\"dataframe\">\n",
       "<caption>A tibble: 242 × 12</caption>\n",
       "<thead>\n",
       "\t<tr><th scope=col>Seasons</th><th scope=col>Age</th><th scope=col>Birthday</th><th scope=col>Birth_month</th><th scope=col>birth_year</th><th scope=col>Plays</th><th scope=col>Best_Rank</th><th scope=col>best_rank_day</th><th scope=col>best_rank_month</th><th scope=col>best_rank_year</th><th scope=col>Current Rank</th><th scope=col>Turned Pro</th></tr>\n",
       "\t<tr><th scope=col>&lt;dbl&gt;</th><th scope=col>&lt;int&gt;</th><th scope=col>&lt;int&gt;</th><th scope=col>&lt;int&gt;</th><th scope=col>&lt;int&gt;</th><th scope=col>&lt;chr&gt;</th><th scope=col>&lt;int&gt;</th><th scope=col>&lt;int&gt;</th><th scope=col>&lt;int&gt;</th><th scope=col>&lt;int&gt;</th><th scope=col>&lt;chr&gt;</th><th scope=col>&lt;dbl&gt;</th></tr>\n",
       "</thead>\n",
       "<tbody>\n",
       "\t<tr><td>14</td><td>32</td><td> 3</td><td>11</td><td>1987</td><td>Right-handed</td><td>44</td><td>14</td><td>1</td><td>2013</td><td>178 (280)</td><td>2005</td></tr>\n",
       "\t<tr><td>11</td><td>27</td><td>21</td><td>10</td><td>1992</td><td>Right-handed</td><td>17</td><td>11</td><td>1</td><td>2016</td><td>183 (273)</td><td>2008</td></tr>\n",
       "\t<tr><td> 5</td><td>22</td><td>11</td><td> 2</td><td>1997</td><td>Right-handed</td><td>31</td><td>20</td><td>1</td><td>2020</td><td>31 (1398)</td><td>2015</td></tr>\n",
       "\t<tr><td>⋮</td><td>⋮</td><td>⋮</td><td>⋮</td><td>⋮</td><td>⋮</td><td>⋮</td><td>⋮</td><td>⋮</td><td>⋮</td><td>⋮</td><td>⋮</td></tr>\n",
       "\t<tr><td> 7</td><td>28</td><td>12</td><td>7</td><td>1991</td><td>Right-handed</td><td> 74</td><td>19</td><td> 2</td><td>2018</td><td>292 (138)</td><td>2008</td></tr>\n",
       "\t<tr><td> 8</td><td>26</td><td>28</td><td>7</td><td>1993</td><td>Right-handed</td><td>249</td><td>24</td><td>12</td><td>2018</td><td>324 (120)</td><td>2009</td></tr>\n",
       "\t<tr><td>10</td><td>26</td><td> 3</td><td>9</td><td>1993</td><td>Right-handed</td><td>  4</td><td> 6</td><td>11</td><td>2017</td><td>5 (5890) </td><td>2011</td></tr>\n",
       "</tbody>\n",
       "</table>\n"
      ],
      "text/latex": [
       "A tibble: 242 × 12\n",
       "\\begin{tabular}{llllllllllll}\n",
       " Seasons & Age & Birthday & Birth\\_month & birth\\_year & Plays & Best\\_Rank & best\\_rank\\_day & best\\_rank\\_month & best\\_rank\\_year & Current Rank & Turned Pro\\\\\n",
       " <dbl> & <int> & <int> & <int> & <int> & <chr> & <int> & <int> & <int> & <int> & <chr> & <dbl>\\\\\n",
       "\\hline\n",
       "\t 14 & 32 &  3 & 11 & 1987 & Right-handed & 44 & 14 & 1 & 2013 & 178 (280) & 2005\\\\\n",
       "\t 11 & 27 & 21 & 10 & 1992 & Right-handed & 17 & 11 & 1 & 2016 & 183 (273) & 2008\\\\\n",
       "\t  5 & 22 & 11 &  2 & 1997 & Right-handed & 31 & 20 & 1 & 2020 & 31 (1398) & 2015\\\\\n",
       "\t ⋮ & ⋮ & ⋮ & ⋮ & ⋮ & ⋮ & ⋮ & ⋮ & ⋮ & ⋮ & ⋮ & ⋮\\\\\n",
       "\t  7 & 28 & 12 & 7 & 1991 & Right-handed &  74 & 19 &  2 & 2018 & 292 (138) & 2008\\\\\n",
       "\t  8 & 26 & 28 & 7 & 1993 & Right-handed & 249 & 24 & 12 & 2018 & 324 (120) & 2009\\\\\n",
       "\t 10 & 26 &  3 & 9 & 1993 & Right-handed &   4 &  6 & 11 & 2017 & 5 (5890)  & 2011\\\\\n",
       "\\end{tabular}\n"
      ],
      "text/markdown": [
       "\n",
       "A tibble: 242 × 12\n",
       "\n",
       "| Seasons &lt;dbl&gt; | Age &lt;int&gt; | Birthday &lt;int&gt; | Birth_month &lt;int&gt; | birth_year &lt;int&gt; | Plays &lt;chr&gt; | Best_Rank &lt;int&gt; | best_rank_day &lt;int&gt; | best_rank_month &lt;int&gt; | best_rank_year &lt;int&gt; | Current Rank &lt;chr&gt; | Turned Pro &lt;dbl&gt; |\n",
       "|---|---|---|---|---|---|---|---|---|---|---|---|\n",
       "| 14 | 32 |  3 | 11 | 1987 | Right-handed | 44 | 14 | 1 | 2013 | 178 (280) | 2005 |\n",
       "| 11 | 27 | 21 | 10 | 1992 | Right-handed | 17 | 11 | 1 | 2016 | 183 (273) | 2008 |\n",
       "|  5 | 22 | 11 |  2 | 1997 | Right-handed | 31 | 20 | 1 | 2020 | 31 (1398) | 2015 |\n",
       "| ⋮ | ⋮ | ⋮ | ⋮ | ⋮ | ⋮ | ⋮ | ⋮ | ⋮ | ⋮ | ⋮ | ⋮ |\n",
       "|  7 | 28 | 12 | 7 | 1991 | Right-handed |  74 | 19 |  2 | 2018 | 292 (138) | 2008 |\n",
       "|  8 | 26 | 28 | 7 | 1993 | Right-handed | 249 | 24 | 12 | 2018 | 324 (120) | 2009 |\n",
       "| 10 | 26 |  3 | 9 | 1993 | Right-handed |   4 |  6 | 11 | 2017 | 5 (5890)  | 2011 |\n",
       "\n"
      ],
      "text/plain": [
       "    Seasons Age Birthday Birth_month birth_year Plays        Best_Rank\n",
       "1   14      32   3       11          1987       Right-handed 44       \n",
       "2   11      27  21       10          1992       Right-handed 17       \n",
       "3    5      22  11        2          1997       Right-handed 31       \n",
       "⋮   ⋮       ⋮   ⋮        ⋮           ⋮          ⋮            ⋮        \n",
       "240  7      28  12       7           1991       Right-handed  74      \n",
       "241  8      26  28       7           1993       Right-handed 249      \n",
       "242 10      26   3       9           1993       Right-handed   4      \n",
       "    best_rank_day best_rank_month best_rank_year Current Rank Turned Pro\n",
       "1   14            1               2013           178 (280)    2005      \n",
       "2   11            1               2016           183 (273)    2008      \n",
       "3   20            1               2020           31 (1398)    2015      \n",
       "⋮   ⋮             ⋮               ⋮              ⋮            ⋮         \n",
       "240 19             2              2018           292 (138)    2008      \n",
       "241 24            12              2018           324 (120)    2009      \n",
       "242  6            11              2017           5 (5890)     2011      "
      ]
     },
     "metadata": {},
     "output_type": "display_data"
    }
   ],
   "source": [
    "player_stats_tidy <- player_stats|>\n",
    "select(Seasons, Age, Plays, \"Best Rank\", \"Current Rank\", \"Turned Pro\")|>\n",
    "separate(col = \"Age\",\n",
    "         into = c(\"Age\", \"Birthday\",\"Birth_month\", \"birth_year\"),\n",
    "        convert = TRUE)|>\n",
    "separate(col = \"Best Rank\",\n",
    "         into = c(\"Best_Rank\", \n",
    "                  \"best_rank_day\", \"best_rank_month\", \"best_rank_year\"),\n",
    "        convert = TRUE)|>\n",
    "na.omit()\n",
    "player_stats_tidy"
   ]
  },
  {
   "cell_type": "code",
   "execution_count": 4,
   "id": "da65740e-5460-4216-8653-e9e9c110a2a8",
   "metadata": {},
   "outputs": [
    {
     "data": {
      "text/html": [
       "<table class=\"dataframe\">\n",
       "<caption>A tibble: 1 × 1</caption>\n",
       "<thead>\n",
       "\t<tr><th scope=col>max_age</th></tr>\n",
       "\t<tr><th scope=col>&lt;int&gt;</th></tr>\n",
       "</thead>\n",
       "<tbody>\n",
       "\t<tr><td>40</td></tr>\n",
       "</tbody>\n",
       "</table>\n"
      ],
      "text/latex": [
       "A tibble: 1 × 1\n",
       "\\begin{tabular}{l}\n",
       " max\\_age\\\\\n",
       " <int>\\\\\n",
       "\\hline\n",
       "\t 40\\\\\n",
       "\\end{tabular}\n"
      ],
      "text/markdown": [
       "\n",
       "A tibble: 1 × 1\n",
       "\n",
       "| max_age &lt;int&gt; |\n",
       "|---|\n",
       "| 40 |\n",
       "\n"
      ],
      "text/plain": [
       "  max_age\n",
       "1 40     "
      ]
     },
     "metadata": {},
     "output_type": "display_data"
    },
    {
     "data": {
      "text/html": [
       "<table class=\"dataframe\">\n",
       "<caption>A tibble: 1 × 1</caption>\n",
       "<thead>\n",
       "\t<tr><th scope=col>min_age</th></tr>\n",
       "\t<tr><th scope=col>&lt;int&gt;</th></tr>\n",
       "</thead>\n",
       "<tbody>\n",
       "\t<tr><td>18</td></tr>\n",
       "</tbody>\n",
       "</table>\n"
      ],
      "text/latex": [
       "A tibble: 1 × 1\n",
       "\\begin{tabular}{l}\n",
       " min\\_age\\\\\n",
       " <int>\\\\\n",
       "\\hline\n",
       "\t 18\\\\\n",
       "\\end{tabular}\n"
      ],
      "text/markdown": [
       "\n",
       "A tibble: 1 × 1\n",
       "\n",
       "| min_age &lt;int&gt; |\n",
       "|---|\n",
       "| 18 |\n",
       "\n"
      ],
      "text/plain": [
       "  min_age\n",
       "1 18     "
      ]
     },
     "metadata": {},
     "output_type": "display_data"
    }
   ],
   "source": [
    "max_age<-player_stats_tidy|>\n",
    "summarise(max_age = max(Age))\n",
    "max_age\n",
    "\n",
    "min_age<-player_stats_tidy|>\n",
    "summarise(min_age = min(Age))\n",
    "min_age"
   ]
  },
  {
   "cell_type": "code",
   "execution_count": 5,
   "id": "329307ee-1362-48e5-a4f6-e7a1bef5e14a",
   "metadata": {},
   "outputs": [
    {
     "data": {
      "text/html": [
       "<table class=\"dataframe\">\n",
       "<caption>A tibble: 61 × 12</caption>\n",
       "<thead>\n",
       "\t<tr><th scope=col>Seasons</th><th scope=col>Age</th><th scope=col>Birthday</th><th scope=col>Birth_month</th><th scope=col>birth_year</th><th scope=col>Plays</th><th scope=col>Best_Rank</th><th scope=col>best_rank_day</th><th scope=col>best_rank_month</th><th scope=col>best_rank_year</th><th scope=col>Current Rank</th><th scope=col>Turned Pro</th></tr>\n",
       "\t<tr><th scope=col>&lt;dbl&gt;</th><th scope=col>&lt;int&gt;</th><th scope=col>&lt;int&gt;</th><th scope=col>&lt;int&gt;</th><th scope=col>&lt;int&gt;</th><th scope=col>&lt;chr&gt;</th><th scope=col>&lt;int&gt;</th><th scope=col>&lt;int&gt;</th><th scope=col>&lt;int&gt;</th><th scope=col>&lt;int&gt;</th><th scope=col>&lt;chr&gt;</th><th scope=col>&lt;dbl&gt;</th></tr>\n",
       "</thead>\n",
       "<tbody>\n",
       "\t<tr><td> 3</td><td>20</td><td>31</td><td> 8</td><td>1999</td><td>Right-handed</td><td>47</td><td> 9</td><td>9</td><td>2019</td><td>54 (959) </td><td>2017</td></tr>\n",
       "\t<tr><td>15</td><td>32</td><td> 7</td><td>10</td><td>1987</td><td>Right-handed</td><td>11</td><td>26</td><td>2</td><td>2018</td><td>45 (1100)</td><td>2006</td></tr>\n",
       "\t<tr><td> 3</td><td>21</td><td>26</td><td> 6</td><td>1998</td><td>Left-handed </td><td>43</td><td>20</td><td>1</td><td>2020</td><td>43 (1130)</td><td>2016</td></tr>\n",
       "\t<tr><td>⋮</td><td>⋮</td><td>⋮</td><td>⋮</td><td>⋮</td><td>⋮</td><td>⋮</td><td>⋮</td><td>⋮</td><td>⋮</td><td>⋮</td><td>⋮</td></tr>\n",
       "\t<tr><td>17</td><td>35</td><td>27</td><td>12</td><td>1984</td><td>Right-handed</td><td>6</td><td> 5</td><td> 1</td><td>2009</td><td>61 (890) </td><td>2002</td></tr>\n",
       "\t<tr><td>12</td><td>29</td><td>27</td><td>12</td><td>1990</td><td>Right-handed</td><td>3</td><td>21</td><td>11</td><td>2016</td><td>35 (1305)</td><td>2008</td></tr>\n",
       "\t<tr><td>16</td><td>34</td><td>17</td><td> 6</td><td>1985</td><td>Right-handed</td><td>8</td><td>21</td><td> 8</td><td>2006</td><td>179 (279)</td><td>2003</td></tr>\n",
       "</tbody>\n",
       "</table>\n"
      ],
      "text/latex": [
       "A tibble: 61 × 12\n",
       "\\begin{tabular}{llllllllllll}\n",
       " Seasons & Age & Birthday & Birth\\_month & birth\\_year & Plays & Best\\_Rank & best\\_rank\\_day & best\\_rank\\_month & best\\_rank\\_year & Current Rank & Turned Pro\\\\\n",
       " <dbl> & <int> & <int> & <int> & <int> & <chr> & <int> & <int> & <int> & <int> & <chr> & <dbl>\\\\\n",
       "\\hline\n",
       "\t  3 & 20 & 31 &  8 & 1999 & Right-handed & 47 &  9 & 9 & 2019 & 54 (959)  & 2017\\\\\n",
       "\t 15 & 32 &  7 & 10 & 1987 & Right-handed & 11 & 26 & 2 & 2018 & 45 (1100) & 2006\\\\\n",
       "\t  3 & 21 & 26 &  6 & 1998 & Left-handed  & 43 & 20 & 1 & 2020 & 43 (1130) & 2016\\\\\n",
       "\t ⋮ & ⋮ & ⋮ & ⋮ & ⋮ & ⋮ & ⋮ & ⋮ & ⋮ & ⋮ & ⋮ & ⋮\\\\\n",
       "\t 17 & 35 & 27 & 12 & 1984 & Right-handed & 6 &  5 &  1 & 2009 & 61 (890)  & 2002\\\\\n",
       "\t 12 & 29 & 27 & 12 & 1990 & Right-handed & 3 & 21 & 11 & 2016 & 35 (1305) & 2008\\\\\n",
       "\t 16 & 34 & 17 &  6 & 1985 & Right-handed & 8 & 21 &  8 & 2006 & 179 (279) & 2003\\\\\n",
       "\\end{tabular}\n"
      ],
      "text/markdown": [
       "\n",
       "A tibble: 61 × 12\n",
       "\n",
       "| Seasons &lt;dbl&gt; | Age &lt;int&gt; | Birthday &lt;int&gt; | Birth_month &lt;int&gt; | birth_year &lt;int&gt; | Plays &lt;chr&gt; | Best_Rank &lt;int&gt; | best_rank_day &lt;int&gt; | best_rank_month &lt;int&gt; | best_rank_year &lt;int&gt; | Current Rank &lt;chr&gt; | Turned Pro &lt;dbl&gt; |\n",
       "|---|---|---|---|---|---|---|---|---|---|---|---|\n",
       "|  3 | 20 | 31 |  8 | 1999 | Right-handed | 47 |  9 | 9 | 2019 | 54 (959)  | 2017 |\n",
       "| 15 | 32 |  7 | 10 | 1987 | Right-handed | 11 | 26 | 2 | 2018 | 45 (1100) | 2006 |\n",
       "|  3 | 21 | 26 |  6 | 1998 | Left-handed  | 43 | 20 | 1 | 2020 | 43 (1130) | 2016 |\n",
       "| ⋮ | ⋮ | ⋮ | ⋮ | ⋮ | ⋮ | ⋮ | ⋮ | ⋮ | ⋮ | ⋮ | ⋮ |\n",
       "| 17 | 35 | 27 | 12 | 1984 | Right-handed | 6 |  5 |  1 | 2009 | 61 (890)  | 2002 |\n",
       "| 12 | 29 | 27 | 12 | 1990 | Right-handed | 3 | 21 | 11 | 2016 | 35 (1305) | 2008 |\n",
       "| 16 | 34 | 17 |  6 | 1985 | Right-handed | 8 | 21 |  8 | 2006 | 179 (279) | 2003 |\n",
       "\n"
      ],
      "text/plain": [
       "   Seasons Age Birthday Birth_month birth_year Plays        Best_Rank\n",
       "1   3      20  31        8          1999       Right-handed 47       \n",
       "2  15      32   7       10          1987       Right-handed 11       \n",
       "3   3      21  26        6          1998       Left-handed  43       \n",
       "⋮  ⋮       ⋮   ⋮        ⋮           ⋮          ⋮            ⋮        \n",
       "59 17      35  27       12          1984       Right-handed 6        \n",
       "60 12      29  27       12          1990       Right-handed 3        \n",
       "61 16      34  17        6          1985       Right-handed 8        \n",
       "   best_rank_day best_rank_month best_rank_year Current Rank Turned Pro\n",
       "1   9            9               2019           54 (959)     2017      \n",
       "2  26            2               2018           45 (1100)    2006      \n",
       "3  20            1               2020           43 (1130)    2016      \n",
       "⋮  ⋮             ⋮               ⋮              ⋮            ⋮         \n",
       "59  5             1              2009           61 (890)     2002      \n",
       "60 21            11              2016           35 (1305)    2008      \n",
       "61 21             8              2006           179 (279)    2003      "
      ]
     },
     "metadata": {},
     "output_type": "display_data"
    }
   ],
   "source": [
    "tennis_split <- initial_split(player_stats_tidy, prop = 0.75, strata = \"Best_Rank\")\n",
    "tennis_training <- training(tennis_split)\n",
    "tennis_training <- testing(tennis_split)\n",
    "\n",
    "tennis_training"
   ]
  },
  {
   "cell_type": "code",
   "execution_count": 6,
   "id": "bb84647b-46a6-4872-ba24-629db73de4b0",
   "metadata": {},
   "outputs": [
    {
     "data": {
      "image/png": "[encoded data removed]",
      "text/plain": [
       "plot without title"
      ]
     },
     "metadata": {
      "image/png": {
       "height": 420,
       "width": 420
      }
     },
     "output_type": "display_data"
    }
   ],
   "source": [
    "tennis_plot <- tennis_training|>\n",
    "ggplot(aes(x = Seasons, y = Best_Rank, colour = Plays))+\n",
    "geom_point()+\n",
    "labs(title = \"Number of Season Versus Best Overall Rank\", x = \"Number of Seasons Played\", y = \"Best Rank (Out of 500)\",)+\n",
    "theme(text = element_text(size = 15))\n",
    "tennis_plot"
   ]
  },
  {
   "cell_type": "code",
   "execution_count": null,
   "id": "6ea87dd8-5145-4152-a714-866f8b713f9d",
   "metadata": {},
   "outputs": [],
   "source": []
  }
 ],
 "metadata": {
  "kernelspec": {
   "display_name": "R",
   "language": "R",
   "name": "ir"
  },
  "language_info": {
   "codemirror_mode": "r",
   "file_extension": ".r",
   "mimetype": "text/x-r-source",
   "name": "R",
   "pygments_lexer": "r",
   "version": "4.1.3"
  }
 },
 "nbformat": 4,
 "nbformat_minor": 5
}
